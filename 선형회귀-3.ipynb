{
 "cells": [
  {
   "cell_type": "markdown",
   "metadata": {},
   "source": [
    "# [선형회귀분석 실습 3: 변수 선택 및 변수 변환]"
   ]
  },
  {
   "cell_type": "markdown",
   "metadata": {},
   "source": [
    "## 1. 모듈 불러오기"
   ]
  },
  {
   "cell_type": "code",
   "execution_count": 1,
   "metadata": {},
   "outputs": [],
   "source": [
    "# 데이터 전처리 패키지\n",
    "from IPython.display import display, HTML\n",
    "import numpy as np\n",
    "import pandas as pd\n",
    "import scipy as sp\n",
    "import scipy.stats as stats\n",
    "\n",
    "# 기계학습 모델 & 데이터 셋 & 성능 평가 패키지\n",
    "import statsmodels.api as sm\n",
    "import statsmodels.formula.api as smf\n",
    "\n",
    "import pylab\n",
    "\n",
    "from sklearn.preprocessing import StandardScaler, RobustScaler, MinMaxScaler, MaxAbsScaler\n",
    "from sklearn.model_selection import train_test_split\n",
    "from sklearn.datasets import fetch_california_housing\n",
    "from sklearn.metrics import mean_squared_error, r2_score, mean_absolute_error\n",
    "\n",
    "# 데이터 시각화 패키지\n",
    "import seaborn as sns\n",
    "import matplotlib.pyplot as plt\n",
    "import matplotlib.font_manager as fm\n",
    "\n",
    "# 한글 폰트 설정\n",
    "plt.rc('font', family='Malgun Gothic')\n",
    "\n",
    "from sklearn.metrics import mean_squared_error\n",
    "from sklearn.metrics import mean_absolute_error\n",
    "\n",
    "def mean_absolute_percentage_error(y_true, y_pred):\n",
    "    y_true, y_pred = np.array(y_true), np.array(y_pred)\n",
    "    return np.mean(np.abs((y_true-y_pred)/y_true))*100"
   ]
  },
  {
   "cell_type": "code",
   "execution_count": 2,
   "metadata": {
    "scrolled": true
   },
   "outputs": [
    {
     "name": "stdout",
     "output_type": "stream",
     "text": [
      ".. _california_housing_dataset:\n",
      "\n",
      "California Housing dataset\n",
      "--------------------------\n",
      "\n",
      "**Data Set Characteristics:**\n",
      "\n",
      "    :Number of Instances: 20640\n",
      "\n",
      "    :Number of Attributes: 8 numeric, predictive attributes and the target\n",
      "\n",
      "    :Attribute Information:\n",
      "        - MedInc        median income in block\n",
      "        - HouseAge      median house age in block\n",
      "        - AveRooms      average number of rooms\n",
      "        - AveBedrms     average number of bedrooms\n",
      "        - Population    block population\n",
      "        - AveOccup      average house occupancy\n",
      "        - Latitude      house block latitude\n",
      "        - Longitude     house block longitude\n",
      "\n",
      "    :Missing Attribute Values: None\n",
      "\n",
      "This dataset was obtained from the StatLib repository.\n",
      "http://lib.stat.cmu.edu/datasets/\n",
      "\n",
      "The target variable is the median house value for California districts.\n",
      "\n",
      "This dataset was derived from the 1990 U.S. census, using one row per census\n",
      "block group. A block group is the smallest geographical unit for which the U.S.\n",
      "Census Bureau publishes sample data (a block group typically has a population\n",
      "of 600 to 3,000 people).\n",
      "\n",
      "It can be downloaded/loaded using the\n",
      ":func:`sklearn.datasets.fetch_california_housing` function.\n",
      "\n",
      ".. topic:: References\n",
      "\n",
      "    - Pace, R. Kelley and Ronald Barry, Sparse Spatial Autoregressions,\n",
      "      Statistics and Probability Letters, 33 (1997) 291-297\n",
      "\n"
     ]
    }
   ],
   "source": [
    "california = fetch_california_housing()\n",
    "print(california.DESCR)"
   ]
  },
  {
   "cell_type": "code",
   "execution_count": 3,
   "metadata": {},
   "outputs": [
    {
     "name": "stdout",
     "output_type": "stream",
     "text": [
      "[[   8.3252       41.            6.98412698 ...    2.55555556\n",
      "    37.88       -122.23      ]\n",
      " [   8.3014       21.            6.23813708 ...    2.10984183\n",
      "    37.86       -122.22      ]\n",
      " [   7.2574       52.            8.28813559 ...    2.80225989\n",
      "    37.85       -122.24      ]\n",
      " ...\n",
      " [   1.7          17.            5.20554273 ...    2.3256351\n",
      "    39.43       -121.22      ]\n",
      " [   1.8672       18.            5.32951289 ...    2.12320917\n",
      "    39.43       -121.32      ]\n",
      " [   2.3886       16.            5.25471698 ...    2.61698113\n",
      "    39.37       -121.24      ]]\n"
     ]
    }
   ],
   "source": [
    "print(california.data)"
   ]
  },
  {
   "cell_type": "markdown",
   "metadata": {},
   "source": [
    "## 2. 데이터 불러오기 및 전처리"
   ]
  },
  {
   "cell_type": "code",
   "execution_count": 4,
   "metadata": {},
   "outputs": [],
   "source": [
    "X = pd.DataFrame(california.data, columns=california.feature_names)\n",
    "y = pd.DataFrame(california.target, columns=['House Value'])"
   ]
  },
  {
   "cell_type": "code",
   "execution_count": 5,
   "metadata": {},
   "outputs": [
    {
     "data": {
      "text/html": [
       "<div>\n",
       "<style scoped>\n",
       "    .dataframe tbody tr th:only-of-type {\n",
       "        vertical-align: middle;\n",
       "    }\n",
       "\n",
       "    .dataframe tbody tr th {\n",
       "        vertical-align: top;\n",
       "    }\n",
       "\n",
       "    .dataframe thead th {\n",
       "        text-align: right;\n",
       "    }\n",
       "</style>\n",
       "<table border=\"1\" class=\"dataframe\">\n",
       "  <thead>\n",
       "    <tr style=\"text-align: right;\">\n",
       "      <th></th>\n",
       "      <th>MedInc</th>\n",
       "      <th>HouseAge</th>\n",
       "      <th>AveRooms</th>\n",
       "      <th>AveBedrms</th>\n",
       "      <th>Population</th>\n",
       "      <th>AveOccup</th>\n",
       "      <th>Latitude</th>\n",
       "      <th>Longitude</th>\n",
       "    </tr>\n",
       "  </thead>\n",
       "  <tbody>\n",
       "    <tr>\n",
       "      <th>0</th>\n",
       "      <td>8.3252</td>\n",
       "      <td>41.0</td>\n",
       "      <td>6.984127</td>\n",
       "      <td>1.023810</td>\n",
       "      <td>322.0</td>\n",
       "      <td>2.555556</td>\n",
       "      <td>37.88</td>\n",
       "      <td>-122.23</td>\n",
       "    </tr>\n",
       "    <tr>\n",
       "      <th>1</th>\n",
       "      <td>8.3014</td>\n",
       "      <td>21.0</td>\n",
       "      <td>6.238137</td>\n",
       "      <td>0.971880</td>\n",
       "      <td>2401.0</td>\n",
       "      <td>2.109842</td>\n",
       "      <td>37.86</td>\n",
       "      <td>-122.22</td>\n",
       "    </tr>\n",
       "    <tr>\n",
       "      <th>2</th>\n",
       "      <td>7.2574</td>\n",
       "      <td>52.0</td>\n",
       "      <td>8.288136</td>\n",
       "      <td>1.073446</td>\n",
       "      <td>496.0</td>\n",
       "      <td>2.802260</td>\n",
       "      <td>37.85</td>\n",
       "      <td>-122.24</td>\n",
       "    </tr>\n",
       "    <tr>\n",
       "      <th>3</th>\n",
       "      <td>5.6431</td>\n",
       "      <td>52.0</td>\n",
       "      <td>5.817352</td>\n",
       "      <td>1.073059</td>\n",
       "      <td>558.0</td>\n",
       "      <td>2.547945</td>\n",
       "      <td>37.85</td>\n",
       "      <td>-122.25</td>\n",
       "    </tr>\n",
       "    <tr>\n",
       "      <th>4</th>\n",
       "      <td>3.8462</td>\n",
       "      <td>52.0</td>\n",
       "      <td>6.281853</td>\n",
       "      <td>1.081081</td>\n",
       "      <td>565.0</td>\n",
       "      <td>2.181467</td>\n",
       "      <td>37.85</td>\n",
       "      <td>-122.25</td>\n",
       "    </tr>\n",
       "  </tbody>\n",
       "</table>\n",
       "</div>"
      ],
      "text/plain": [
       "   MedInc  HouseAge  AveRooms  AveBedrms  Population  AveOccup  Latitude  \\\n",
       "0  8.3252      41.0  6.984127   1.023810       322.0  2.555556     37.88   \n",
       "1  8.3014      21.0  6.238137   0.971880      2401.0  2.109842     37.86   \n",
       "2  7.2574      52.0  8.288136   1.073446       496.0  2.802260     37.85   \n",
       "3  5.6431      52.0  5.817352   1.073059       558.0  2.547945     37.85   \n",
       "4  3.8462      52.0  6.281853   1.081081       565.0  2.181467     37.85   \n",
       "\n",
       "   Longitude  \n",
       "0    -122.23  \n",
       "1    -122.22  \n",
       "2    -122.24  \n",
       "3    -122.25  \n",
       "4    -122.25  "
      ]
     },
     "execution_count": 5,
     "metadata": {},
     "output_type": "execute_result"
    }
   ],
   "source": [
    "X.head()"
   ]
  },
  {
   "cell_type": "code",
   "execution_count": 6,
   "metadata": {},
   "outputs": [],
   "source": [
    "data = pd.concat([X, y], axis=1)\n",
    "train_data, test_data = train_test_split(data, test_size=0.3, random_state=55)"
   ]
  },
  {
   "cell_type": "markdown",
   "metadata": {},
   "source": [
    "## 3. 모델링"
   ]
  },
  {
   "cell_type": "code",
   "execution_count": 7,
   "metadata": {
    "scrolled": true
   },
   "outputs": [
    {
     "data": {
      "text/html": [
       "<table class=\"simpletable\">\n",
       "<caption>OLS Regression Results</caption>\n",
       "<tr>\n",
       "  <th>Dep. Variable:</th>       <td>House Value</td>   <th>  R-squared (uncentered):</th>      <td>   0.894</td> \n",
       "</tr>\n",
       "<tr>\n",
       "  <th>Model:</th>                   <td>OLS</td>       <th>  Adj. R-squared (uncentered):</th> <td>   0.894</td> \n",
       "</tr>\n",
       "<tr>\n",
       "  <th>Method:</th>             <td>Least Squares</td>  <th>  F-statistic:       </th>          <td>1.518e+04</td>\n",
       "</tr>\n",
       "<tr>\n",
       "  <th>Date:</th>             <td>Thu, 13 May 2021</td> <th>  Prob (F-statistic):</th>           <td>  0.00</td>  \n",
       "</tr>\n",
       "<tr>\n",
       "  <th>Time:</th>                 <td>15:20:11</td>     <th>  Log-Likelihood:    </th>          <td> -16764.</td> \n",
       "</tr>\n",
       "<tr>\n",
       "  <th>No. Observations:</th>      <td> 14448</td>      <th>  AIC:               </th>          <td>3.354e+04</td>\n",
       "</tr>\n",
       "<tr>\n",
       "  <th>Df Residuals:</th>          <td> 14440</td>      <th>  BIC:               </th>          <td>3.360e+04</td>\n",
       "</tr>\n",
       "<tr>\n",
       "  <th>Df Model:</th>              <td>     8</td>      <th>                     </th>              <td> </td>    \n",
       "</tr>\n",
       "<tr>\n",
       "  <th>Covariance Type:</th>      <td>nonrobust</td>    <th>                     </th>              <td> </td>    \n",
       "</tr>\n",
       "</table>\n",
       "<table class=\"simpletable\">\n",
       "<tr>\n",
       "       <td></td>         <th>coef</th>     <th>std err</th>      <th>t</th>      <th>P>|t|</th>  <th>[0.025</th>    <th>0.975]</th>  \n",
       "</tr>\n",
       "<tr>\n",
       "  <th>MedInc</th>     <td>    0.5216</td> <td>    0.005</td> <td>  101.582</td> <td> 0.000</td> <td>    0.512</td> <td>    0.532</td>\n",
       "</tr>\n",
       "<tr>\n",
       "  <th>HouseAge</th>   <td>    0.0160</td> <td>    0.001</td> <td>   29.157</td> <td> 0.000</td> <td>    0.015</td> <td>    0.017</td>\n",
       "</tr>\n",
       "<tr>\n",
       "  <th>AveRooms</th>   <td>   -0.1942</td> <td>    0.007</td> <td>  -25.898</td> <td> 0.000</td> <td>   -0.209</td> <td>   -0.179</td>\n",
       "</tr>\n",
       "<tr>\n",
       "  <th>AveBedrms</th>  <td>    0.9733</td> <td>    0.038</td> <td>   25.292</td> <td> 0.000</td> <td>    0.898</td> <td>    1.049</td>\n",
       "</tr>\n",
       "<tr>\n",
       "  <th>Population</th> <td> 8.374e-06</td> <td> 6.08e-06</td> <td>    1.378</td> <td> 0.168</td> <td>-3.54e-06</td> <td> 2.03e-05</td>\n",
       "</tr>\n",
       "<tr>\n",
       "  <th>AveOccup</th>   <td>   -0.0042</td> <td>    0.001</td> <td>   -7.977</td> <td> 0.000</td> <td>   -0.005</td> <td>   -0.003</td>\n",
       "</tr>\n",
       "<tr>\n",
       "  <th>Latitude</th>   <td>   -0.0635</td> <td>    0.004</td> <td>  -14.866</td> <td> 0.000</td> <td>   -0.072</td> <td>   -0.055</td>\n",
       "</tr>\n",
       "<tr>\n",
       "  <th>Longitude</th>  <td>   -0.0154</td> <td>    0.001</td> <td>  -11.287</td> <td> 0.000</td> <td>   -0.018</td> <td>   -0.013</td>\n",
       "</tr>\n",
       "</table>\n",
       "<table class=\"simpletable\">\n",
       "<tr>\n",
       "  <th>Omnibus:</th>       <td>2765.800</td> <th>  Durbin-Watson:     </th> <td>   2.006</td>\n",
       "</tr>\n",
       "<tr>\n",
       "  <th>Prob(Omnibus):</th>  <td> 0.000</td>  <th>  Jarque-Bera (JB):  </th> <td>7706.804</td>\n",
       "</tr>\n",
       "<tr>\n",
       "  <th>Skew:</th>           <td> 1.020</td>  <th>  Prob(JB):          </th> <td>    0.00</td>\n",
       "</tr>\n",
       "<tr>\n",
       "  <th>Kurtosis:</th>       <td> 5.939</td>  <th>  Cond. No.          </th> <td>1.11e+04</td>\n",
       "</tr>\n",
       "</table><br/><br/>Notes:<br/>[1] R² is computed without centering (uncentered) since the model does not contain a constant.<br/>[2] Standard Errors assume that the covariance matrix of the errors is correctly specified.<br/>[3] The condition number is large, 1.11e+04. This might indicate that there are<br/>strong multicollinearity or other numerical problems."
      ],
      "text/plain": [
       "<class 'statsmodels.iolib.summary.Summary'>\n",
       "\"\"\"\n",
       "                                 OLS Regression Results                                \n",
       "=======================================================================================\n",
       "Dep. Variable:            House Value   R-squared (uncentered):                   0.894\n",
       "Model:                            OLS   Adj. R-squared (uncentered):              0.894\n",
       "Method:                 Least Squares   F-statistic:                          1.518e+04\n",
       "Date:                Thu, 13 May 2021   Prob (F-statistic):                        0.00\n",
       "Time:                        15:20:11   Log-Likelihood:                         -16764.\n",
       "No. Observations:               14448   AIC:                                  3.354e+04\n",
       "Df Residuals:                   14440   BIC:                                  3.360e+04\n",
       "Df Model:                           8                                                  \n",
       "Covariance Type:            nonrobust                                                  \n",
       "==============================================================================\n",
       "                 coef    std err          t      P>|t|      [0.025      0.975]\n",
       "------------------------------------------------------------------------------\n",
       "MedInc         0.5216      0.005    101.582      0.000       0.512       0.532\n",
       "HouseAge       0.0160      0.001     29.157      0.000       0.015       0.017\n",
       "AveRooms      -0.1942      0.007    -25.898      0.000      -0.209      -0.179\n",
       "AveBedrms      0.9733      0.038     25.292      0.000       0.898       1.049\n",
       "Population  8.374e-06   6.08e-06      1.378      0.168   -3.54e-06    2.03e-05\n",
       "AveOccup      -0.0042      0.001     -7.977      0.000      -0.005      -0.003\n",
       "Latitude      -0.0635      0.004    -14.866      0.000      -0.072      -0.055\n",
       "Longitude     -0.0154      0.001    -11.287      0.000      -0.018      -0.013\n",
       "==============================================================================\n",
       "Omnibus:                     2765.800   Durbin-Watson:                   2.006\n",
       "Prob(Omnibus):                  0.000   Jarque-Bera (JB):             7706.804\n",
       "Skew:                           1.020   Prob(JB):                         0.00\n",
       "Kurtosis:                       5.939   Cond. No.                     1.11e+04\n",
       "==============================================================================\n",
       "\n",
       "Notes:\n",
       "[1] R² is computed without centering (uncentered) since the model does not contain a constant.\n",
       "[2] Standard Errors assume that the covariance matrix of the errors is correctly specified.\n",
       "[3] The condition number is large, 1.11e+04. This might indicate that there are\n",
       "strong multicollinearity or other numerical problems.\n",
       "\"\"\""
      ]
     },
     "metadata": {},
     "output_type": "display_data"
    }
   ],
   "source": [
    "lm = sm.OLS(train_data['House Value'], train_data.drop('House Value', axis=1))\n",
    "lm_trained = lm.fit()\n",
    "display(lm_trained.summary())"
   ]
  },
  {
   "cell_type": "code",
   "execution_count": 8,
   "metadata": {},
   "outputs": [],
   "source": [
    "test_pred = lm_trained.predict(test_data.drop('House Value', axis=1))"
   ]
  },
  {
   "cell_type": "markdown",
   "metadata": {},
   "source": [
    "## 4. 유의하지 않은 변수 제거하기\n",
    "### p-value가 높은 \"Populaion\" 변수를 모델에서 제거"
   ]
  },
  {
   "cell_type": "code",
   "execution_count": 9,
   "metadata": {},
   "outputs": [],
   "source": [
    "train_data_new = train_data.drop('Population', axis=1)\n",
    "test_data_new = test_data.drop('Population', axis=1)"
   ]
  },
  {
   "cell_type": "code",
   "execution_count": 10,
   "metadata": {
    "scrolled": true
   },
   "outputs": [
    {
     "data": {
      "text/html": [
       "<table class=\"simpletable\">\n",
       "<caption>OLS Regression Results</caption>\n",
       "<tr>\n",
       "  <th>Dep. Variable:</th>       <td>House Value</td>   <th>  R-squared (uncentered):</th>      <td>   0.894</td> \n",
       "</tr>\n",
       "<tr>\n",
       "  <th>Model:</th>                   <td>OLS</td>       <th>  Adj. R-squared (uncentered):</th> <td>   0.894</td> \n",
       "</tr>\n",
       "<tr>\n",
       "  <th>Method:</th>             <td>Least Squares</td>  <th>  F-statistic:       </th>          <td>1.735e+04</td>\n",
       "</tr>\n",
       "<tr>\n",
       "  <th>Date:</th>             <td>Thu, 13 May 2021</td> <th>  Prob (F-statistic):</th>           <td>  0.00</td>  \n",
       "</tr>\n",
       "<tr>\n",
       "  <th>Time:</th>                 <td>15:20:11</td>     <th>  Log-Likelihood:    </th>          <td> -16765.</td> \n",
       "</tr>\n",
       "<tr>\n",
       "  <th>No. Observations:</th>      <td> 14448</td>      <th>  AIC:               </th>          <td>3.354e+04</td>\n",
       "</tr>\n",
       "<tr>\n",
       "  <th>Df Residuals:</th>          <td> 14441</td>      <th>  BIC:               </th>          <td>3.360e+04</td>\n",
       "</tr>\n",
       "<tr>\n",
       "  <th>Df Model:</th>              <td>     7</td>      <th>                     </th>              <td> </td>    \n",
       "</tr>\n",
       "<tr>\n",
       "  <th>Covariance Type:</th>      <td>nonrobust</td>    <th>                     </th>              <td> </td>    \n",
       "</tr>\n",
       "</table>\n",
       "<table class=\"simpletable\">\n",
       "<tr>\n",
       "      <td></td>         <th>coef</th>     <th>std err</th>      <th>t</th>      <th>P>|t|</th>  <th>[0.025</th>    <th>0.975]</th>  \n",
       "</tr>\n",
       "<tr>\n",
       "  <th>MedInc</th>    <td>    0.5214</td> <td>    0.005</td> <td>  101.574</td> <td> 0.000</td> <td>    0.511</td> <td>    0.531</td>\n",
       "</tr>\n",
       "<tr>\n",
       "  <th>HouseAge</th>  <td>    0.0158</td> <td>    0.001</td> <td>   30.274</td> <td> 0.000</td> <td>    0.015</td> <td>    0.017</td>\n",
       "</tr>\n",
       "<tr>\n",
       "  <th>AveRooms</th>  <td>   -0.1945</td> <td>    0.007</td> <td>  -25.952</td> <td> 0.000</td> <td>   -0.209</td> <td>   -0.180</td>\n",
       "</tr>\n",
       "<tr>\n",
       "  <th>AveBedrms</th> <td>    0.9729</td> <td>    0.038</td> <td>   25.281</td> <td> 0.000</td> <td>    0.897</td> <td>    1.048</td>\n",
       "</tr>\n",
       "<tr>\n",
       "  <th>AveOccup</th>  <td>   -0.0041</td> <td>    0.001</td> <td>   -7.883</td> <td> 0.000</td> <td>   -0.005</td> <td>   -0.003</td>\n",
       "</tr>\n",
       "<tr>\n",
       "  <th>Latitude</th>  <td>   -0.0644</td> <td>    0.004</td> <td>  -15.216</td> <td> 0.000</td> <td>   -0.073</td> <td>   -0.056</td>\n",
       "</tr>\n",
       "<tr>\n",
       "  <th>Longitude</th> <td>   -0.0158</td> <td>    0.001</td> <td>  -11.914</td> <td> 0.000</td> <td>   -0.018</td> <td>   -0.013</td>\n",
       "</tr>\n",
       "</table>\n",
       "<table class=\"simpletable\">\n",
       "<tr>\n",
       "  <th>Omnibus:</th>       <td>2755.138</td> <th>  Durbin-Watson:     </th> <td>   2.006</td>\n",
       "</tr>\n",
       "<tr>\n",
       "  <th>Prob(Omnibus):</th>  <td> 0.000</td>  <th>  Jarque-Bera (JB):  </th> <td>7695.331</td>\n",
       "</tr>\n",
       "<tr>\n",
       "  <th>Skew:</th>           <td> 1.016</td>  <th>  Prob(JB):          </th> <td>    0.00</td>\n",
       "</tr>\n",
       "<tr>\n",
       "  <th>Kurtosis:</th>       <td> 5.942</td>  <th>  Cond. No.          </th> <td>    785.</td>\n",
       "</tr>\n",
       "</table><br/><br/>Notes:<br/>[1] R² is computed without centering (uncentered) since the model does not contain a constant.<br/>[2] Standard Errors assume that the covariance matrix of the errors is correctly specified."
      ],
      "text/plain": [
       "<class 'statsmodels.iolib.summary.Summary'>\n",
       "\"\"\"\n",
       "                                 OLS Regression Results                                \n",
       "=======================================================================================\n",
       "Dep. Variable:            House Value   R-squared (uncentered):                   0.894\n",
       "Model:                            OLS   Adj. R-squared (uncentered):              0.894\n",
       "Method:                 Least Squares   F-statistic:                          1.735e+04\n",
       "Date:                Thu, 13 May 2021   Prob (F-statistic):                        0.00\n",
       "Time:                        15:20:11   Log-Likelihood:                         -16765.\n",
       "No. Observations:               14448   AIC:                                  3.354e+04\n",
       "Df Residuals:                   14441   BIC:                                  3.360e+04\n",
       "Df Model:                           7                                                  \n",
       "Covariance Type:            nonrobust                                                  \n",
       "==============================================================================\n",
       "                 coef    std err          t      P>|t|      [0.025      0.975]\n",
       "------------------------------------------------------------------------------\n",
       "MedInc         0.5214      0.005    101.574      0.000       0.511       0.531\n",
       "HouseAge       0.0158      0.001     30.274      0.000       0.015       0.017\n",
       "AveRooms      -0.1945      0.007    -25.952      0.000      -0.209      -0.180\n",
       "AveBedrms      0.9729      0.038     25.281      0.000       0.897       1.048\n",
       "AveOccup      -0.0041      0.001     -7.883      0.000      -0.005      -0.003\n",
       "Latitude      -0.0644      0.004    -15.216      0.000      -0.073      -0.056\n",
       "Longitude     -0.0158      0.001    -11.914      0.000      -0.018      -0.013\n",
       "==============================================================================\n",
       "Omnibus:                     2755.138   Durbin-Watson:                   2.006\n",
       "Prob(Omnibus):                  0.000   Jarque-Bera (JB):             7695.331\n",
       "Skew:                           1.016   Prob(JB):                         0.00\n",
       "Kurtosis:                       5.942   Cond. No.                         785.\n",
       "==============================================================================\n",
       "\n",
       "Notes:\n",
       "[1] R² is computed without centering (uncentered) since the model does not contain a constant.\n",
       "[2] Standard Errors assume that the covariance matrix of the errors is correctly specified.\n",
       "\"\"\""
      ]
     },
     "metadata": {},
     "output_type": "display_data"
    }
   ],
   "source": [
    "lm_new = sm.OLS(train_data_new['House Value'], train_data_new.drop('House Value', axis=1))\n",
    "lm_new_trained = lm_new.fit()\n",
    "display(lm_new_trained.summary())"
   ]
  },
  {
   "cell_type": "code",
   "execution_count": 11,
   "metadata": {},
   "outputs": [],
   "source": [
    "test_pred_new = lm_new_trained.predict(test_data_new.drop('House Value', axis=1))"
   ]
  },
  {
   "cell_type": "markdown",
   "metadata": {},
   "source": [
    "변수 제거 전후의 예측성능 비교하기"
   ]
  },
  {
   "cell_type": "code",
   "execution_count": 12,
   "metadata": {},
   "outputs": [],
   "source": [
    "test_mse = mean_squared_error(test_data['House Value'], test_pred)\n",
    "test_rmse = np.sqrt(mean_squared_error(test_data['House Value'], test_pred))\n",
    "test_mae = mean_absolute_error(test_data['House Value'], test_pred)\n",
    "test_mape = mean_absolute_percentage_error(test_data['House Value'], test_pred)\n",
    "\n",
    "test_mse_new = mean_squared_error(test_data_new['House Value'], test_pred_new)\n",
    "test_rmse_new = np.sqrt(mean_squared_error(test_data_new['House Value'], test_pred_new))\n",
    "test_mae_new = mean_absolute_error(test_data_new['House Value'], test_pred_new)\n",
    "test_mape_new = mean_absolute_percentage_error(test_data_new['House Value'], test_pred_new)"
   ]
  },
  {
   "cell_type": "code",
   "execution_count": 13,
   "metadata": {},
   "outputs": [
    {
     "name": "stdout",
     "output_type": "stream",
     "text": [
      "Testing MSE: 0.626 → 0.626\n",
      "Testing RMSE: 0.791 → 0.791\n",
      "Testing MAE: 0.574 → 0.574\n",
      "Testing MAPE: 34.261 → 34.272\n"
     ]
    }
   ],
   "source": [
    "print('Testing MSE: {:.3f} → {:.3f}'.format(test_mse, test_mse_new))\n",
    "print('Testing RMSE: {:.3f} → {:.3f}'.format(test_rmse, test_rmse_new))\n",
    "print('Testing MAE: {:.3f} → {:.3f}'.format(test_mae, test_mae_new))\n",
    "print('Testing MAPE: {:.3f} → {:.3f}'.format(test_mape, test_mape_new))"
   ]
  },
  {
   "cell_type": "markdown",
   "metadata": {},
   "source": [
    "## 5. 상관계수가 높은 변수 제거하기\n",
    "### correlation이 높은 변수 \"AveRooms\"와 \"AveBedrms\" 중 \"AveBedrms\" 변수 제거하기"
   ]
  },
  {
   "cell_type": "code",
   "execution_count": 14,
   "metadata": {
    "scrolled": false
   },
   "outputs": [
    {
     "name": "stderr",
     "output_type": "stream",
     "text": [
      "C:\\ProgramData\\Anaconda3\\lib\\site-packages\\matplotlib\\backends\\backend_agg.py:238: RuntimeWarning: Glyph 8722 missing from current font.\n",
      "  font.set_text(s, 0.0, flags=flags)\n",
      "C:\\ProgramData\\Anaconda3\\lib\\site-packages\\matplotlib\\backends\\backend_agg.py:201: RuntimeWarning: Glyph 8722 missing from current font.\n",
      "  font.set_text(s, 0, flags=flags)\n"
     ]
    },
    {
     "data": {
      "text/plain": [
       "<AxesSubplot:>"
      ]
     },
     "execution_count": 14,
     "metadata": {},
     "output_type": "execute_result"
    },
    {
     "data": {
      "image/png": "[encoded data removed]",
      "text/plain": [
       "<Figure size 720x648 with 2 Axes>"
      ]
     },
     "metadata": {
      "needs_background": "light"
     },
     "output_type": "display_data"
    }
   ],
   "source": [
    "plt.figure(figsize=(10, 9))\n",
    "sns.heatmap(data.corr(), cmap=sns.color_palette(\"coolwarm\", 10), annot=data.corr())"
   ]
  },
  {
   "cell_type": "code",
   "execution_count": 15,
   "metadata": {},
   "outputs": [],
   "source": [
    "train_data_new2 = train_data.drop('AveBedrms', axis=1)\n",
    "test_data_new2 = test_data.drop('AveBedrms', axis=1)"
   ]
  },
  {
   "cell_type": "code",
   "execution_count": 16,
   "metadata": {
    "scrolled": true
   },
   "outputs": [
    {
     "data": {
      "text/html": [
       "<table class=\"simpletable\">\n",
       "<caption>OLS Regression Results</caption>\n",
       "<tr>\n",
       "  <th>Dep. Variable:</th>       <td>House Value</td>   <th>  R-squared (uncentered):</th>      <td>   0.889</td> \n",
       "</tr>\n",
       "<tr>\n",
       "  <th>Model:</th>                   <td>OLS</td>       <th>  Adj. R-squared (uncentered):</th> <td>   0.889</td> \n",
       "</tr>\n",
       "<tr>\n",
       "  <th>Method:</th>             <td>Least Squares</td>  <th>  F-statistic:       </th>          <td>1.652e+04</td>\n",
       "</tr>\n",
       "<tr>\n",
       "  <th>Date:</th>             <td>Thu, 13 May 2021</td> <th>  Prob (F-statistic):</th>           <td>  0.00</td>  \n",
       "</tr>\n",
       "<tr>\n",
       "  <th>Time:</th>                 <td>15:20:13</td>     <th>  Log-Likelihood:    </th>          <td> -17077.</td> \n",
       "</tr>\n",
       "<tr>\n",
       "  <th>No. Observations:</th>      <td> 14448</td>      <th>  AIC:               </th>          <td>3.417e+04</td>\n",
       "</tr>\n",
       "<tr>\n",
       "  <th>Df Residuals:</th>          <td> 14441</td>      <th>  BIC:               </th>          <td>3.422e+04</td>\n",
       "</tr>\n",
       "<tr>\n",
       "  <th>Df Model:</th>              <td>     7</td>      <th>                     </th>              <td> </td>    \n",
       "</tr>\n",
       "<tr>\n",
       "  <th>Covariance Type:</th>      <td>nonrobust</td>    <th>                     </th>              <td> </td>    \n",
       "</tr>\n",
       "</table>\n",
       "<table class=\"simpletable\">\n",
       "<tr>\n",
       "       <td></td>         <th>coef</th>     <th>std err</th>      <th>t</th>      <th>P>|t|</th>  <th>[0.025</th>    <th>0.975]</th>  \n",
       "</tr>\n",
       "<tr>\n",
       "  <th>MedInc</th>     <td>    0.4311</td> <td>    0.004</td> <td>  114.555</td> <td> 0.000</td> <td>    0.424</td> <td>    0.438</td>\n",
       "</tr>\n",
       "<tr>\n",
       "  <th>HouseAge</th>   <td>    0.0166</td> <td>    0.001</td> <td>   29.532</td> <td> 0.000</td> <td>    0.015</td> <td>    0.018</td>\n",
       "</tr>\n",
       "<tr>\n",
       "  <th>AveRooms</th>   <td>   -0.0204</td> <td>    0.003</td> <td>   -6.649</td> <td> 0.000</td> <td>   -0.026</td> <td>   -0.014</td>\n",
       "</tr>\n",
       "<tr>\n",
       "  <th>Population</th> <td> 7.159e-06</td> <td> 6.21e-06</td> <td>    1.153</td> <td> 0.249</td> <td>-5.02e-06</td> <td> 1.93e-05</td>\n",
       "</tr>\n",
       "<tr>\n",
       "  <th>AveOccup</th>   <td>   -0.0038</td> <td>    0.001</td> <td>   -7.190</td> <td> 0.000</td> <td>   -0.005</td> <td>   -0.003</td>\n",
       "</tr>\n",
       "<tr>\n",
       "  <th>Latitude</th>   <td>   -0.0869</td> <td>    0.004</td> <td>  -20.377</td> <td> 0.000</td> <td>   -0.095</td> <td>   -0.079</td>\n",
       "</tr>\n",
       "<tr>\n",
       "  <th>Longitude</th>  <td>   -0.0262</td> <td>    0.001</td> <td>  -19.781</td> <td> 0.000</td> <td>   -0.029</td> <td>   -0.024</td>\n",
       "</tr>\n",
       "</table>\n",
       "<table class=\"simpletable\">\n",
       "<tr>\n",
       "  <th>Omnibus:</th>       <td>2984.147</td> <th>  Durbin-Watson:     </th> <td>   2.009</td>\n",
       "</tr>\n",
       "<tr>\n",
       "  <th>Prob(Omnibus):</th>  <td> 0.000</td>  <th>  Jarque-Bera (JB):  </th> <td>7305.189</td>\n",
       "</tr>\n",
       "<tr>\n",
       "  <th>Skew:</th>           <td> 1.146</td>  <th>  Prob(JB):          </th> <td>    0.00</td>\n",
       "</tr>\n",
       "<tr>\n",
       "  <th>Kurtosis:</th>       <td> 5.624</td>  <th>  Cond. No.          </th> <td>1.30e+03</td>\n",
       "</tr>\n",
       "</table><br/><br/>Notes:<br/>[1] R² is computed without centering (uncentered) since the model does not contain a constant.<br/>[2] Standard Errors assume that the covariance matrix of the errors is correctly specified.<br/>[3] The condition number is large, 1.3e+03. This might indicate that there are<br/>strong multicollinearity or other numerical problems."
      ],
      "text/plain": [
       "<class 'statsmodels.iolib.summary.Summary'>\n",
       "\"\"\"\n",
       "                                 OLS Regression Results                                \n",
       "=======================================================================================\n",
       "Dep. Variable:            House Value   R-squared (uncentered):                   0.889\n",
       "Model:                            OLS   Adj. R-squared (uncentered):              0.889\n",
       "Method:                 Least Squares   F-statistic:                          1.652e+04\n",
       "Date:                Thu, 13 May 2021   Prob (F-statistic):                        0.00\n",
       "Time:                        15:20:13   Log-Likelihood:                         -17077.\n",
       "No. Observations:               14448   AIC:                                  3.417e+04\n",
       "Df Residuals:                   14441   BIC:                                  3.422e+04\n",
       "Df Model:                           7                                                  \n",
       "Covariance Type:            nonrobust                                                  \n",
       "==============================================================================\n",
       "                 coef    std err          t      P>|t|      [0.025      0.975]\n",
       "------------------------------------------------------------------------------\n",
       "MedInc         0.4311      0.004    114.555      0.000       0.424       0.438\n",
       "HouseAge       0.0166      0.001     29.532      0.000       0.015       0.018\n",
       "AveRooms      -0.0204      0.003     -6.649      0.000      -0.026      -0.014\n",
       "Population  7.159e-06   6.21e-06      1.153      0.249   -5.02e-06    1.93e-05\n",
       "AveOccup      -0.0038      0.001     -7.190      0.000      -0.005      -0.003\n",
       "Latitude      -0.0869      0.004    -20.377      0.000      -0.095      -0.079\n",
       "Longitude     -0.0262      0.001    -19.781      0.000      -0.029      -0.024\n",
       "==============================================================================\n",
       "Omnibus:                     2984.147   Durbin-Watson:                   2.009\n",
       "Prob(Omnibus):                  0.000   Jarque-Bera (JB):             7305.189\n",
       "Skew:                           1.146   Prob(JB):                         0.00\n",
       "Kurtosis:                       5.624   Cond. No.                     1.30e+03\n",
       "==============================================================================\n",
       "\n",
       "Notes:\n",
       "[1] R² is computed without centering (uncentered) since the model does not contain a constant.\n",
       "[2] Standard Errors assume that the covariance matrix of the errors is correctly specified.\n",
       "[3] The condition number is large, 1.3e+03. This might indicate that there are\n",
       "strong multicollinearity or other numerical problems.\n",
       "\"\"\""
      ]
     },
     "metadata": {},
     "output_type": "display_data"
    }
   ],
   "source": [
    "lm_new2 = sm.OLS(train_data_new2['House Value'], train_data_new2.drop('House Value', axis=1))\n",
    "lm_new2_trained = lm_new2.fit()\n",
    "display(lm_new2_trained.summary())\n",
    "test_pred_new2 = lm_new2_trained.predict(test_data_new2.drop('House Value', axis=1))"
   ]
  },
  {
   "cell_type": "markdown",
   "metadata": {},
   "source": [
    "변수 제거 전후의 예측성능 비교하기"
   ]
  },
  {
   "cell_type": "code",
   "execution_count": 17,
   "metadata": {},
   "outputs": [
    {
     "name": "stdout",
     "output_type": "stream",
     "text": [
      "Testing MSE: 0.626 → 0.643\n",
      "Testing RMSE: 0.791 → 0.802\n",
      "Testing MAE: 0.574 → 0.592\n",
      "Testing MAPE: 34.261 → 35.341\n"
     ]
    }
   ],
   "source": [
    "test_mse_new2 = mean_squared_error(test_data_new2['House Value'], test_pred_new2)\n",
    "test_rmse_new2 = np.sqrt(mean_squared_error(test_data_new2['House Value'], test_pred_new2))\n",
    "test_mae_new2 = mean_absolute_error(test_data_new2['House Value'], test_pred_new2)\n",
    "test_mape_new2 = mean_absolute_percentage_error(test_data_new2['House Value'], test_pred_new2)\n",
    "print('Testing MSE: {:.3f} → {:.3f}'.format(test_mse, test_mse_new2))\n",
    "print('Testing RMSE: {:.3f} → {:.3f}'.format(test_rmse, test_rmse_new2))\n",
    "print('Testing MAE: {:.3f} → {:.3f}'.format(test_mae, test_mae_new2))\n",
    "print('Testing MAPE: {:.3f} → {:.3f}'.format(test_mape, test_mape_new2))"
   ]
  },
  {
   "cell_type": "markdown",
   "metadata": {},
   "source": [
    "## 6. 변수 변환하기: 설명변수(X) or 반응변수(y) 변환"
   ]
  },
  {
   "cell_type": "markdown",
   "metadata": {},
   "source": [
    "### 설명변수(X) 변환: MinMax 정규화(모든 설명변수 데이터 범위를 0~1로 맞춰주자)"
   ]
  },
  {
   "cell_type": "code",
   "execution_count": 18,
   "metadata": {},
   "outputs": [
    {
     "data": {
      "text/html": [
       "<div>\n",
       "<style scoped>\n",
       "    .dataframe tbody tr th:only-of-type {\n",
       "        vertical-align: middle;\n",
       "    }\n",
       "\n",
       "    .dataframe tbody tr th {\n",
       "        vertical-align: top;\n",
       "    }\n",
       "\n",
       "    .dataframe thead th {\n",
       "        text-align: right;\n",
       "    }\n",
       "</style>\n",
       "<table border=\"1\" class=\"dataframe\">\n",
       "  <thead>\n",
       "    <tr style=\"text-align: right;\">\n",
       "      <th></th>\n",
       "      <th>MedInc</th>\n",
       "      <th>HouseAge</th>\n",
       "      <th>AveRooms</th>\n",
       "      <th>AveBedrms</th>\n",
       "      <th>Population</th>\n",
       "      <th>AveOccup</th>\n",
       "      <th>Latitude</th>\n",
       "      <th>Longitude</th>\n",
       "    </tr>\n",
       "  </thead>\n",
       "  <tbody>\n",
       "    <tr>\n",
       "      <th>0</th>\n",
       "      <td>8.3252</td>\n",
       "      <td>41.0</td>\n",
       "      <td>6.984127</td>\n",
       "      <td>1.023810</td>\n",
       "      <td>322.0</td>\n",
       "      <td>2.555556</td>\n",
       "      <td>37.88</td>\n",
       "      <td>-122.23</td>\n",
       "    </tr>\n",
       "    <tr>\n",
       "      <th>1</th>\n",
       "      <td>8.3014</td>\n",
       "      <td>21.0</td>\n",
       "      <td>6.238137</td>\n",
       "      <td>0.971880</td>\n",
       "      <td>2401.0</td>\n",
       "      <td>2.109842</td>\n",
       "      <td>37.86</td>\n",
       "      <td>-122.22</td>\n",
       "    </tr>\n",
       "    <tr>\n",
       "      <th>2</th>\n",
       "      <td>7.2574</td>\n",
       "      <td>52.0</td>\n",
       "      <td>8.288136</td>\n",
       "      <td>1.073446</td>\n",
       "      <td>496.0</td>\n",
       "      <td>2.802260</td>\n",
       "      <td>37.85</td>\n",
       "      <td>-122.24</td>\n",
       "    </tr>\n",
       "    <tr>\n",
       "      <th>3</th>\n",
       "      <td>5.6431</td>\n",
       "      <td>52.0</td>\n",
       "      <td>5.817352</td>\n",
       "      <td>1.073059</td>\n",
       "      <td>558.0</td>\n",
       "      <td>2.547945</td>\n",
       "      <td>37.85</td>\n",
       "      <td>-122.25</td>\n",
       "    </tr>\n",
       "    <tr>\n",
       "      <th>4</th>\n",
       "      <td>3.8462</td>\n",
       "      <td>52.0</td>\n",
       "      <td>6.281853</td>\n",
       "      <td>1.081081</td>\n",
       "      <td>565.0</td>\n",
       "      <td>2.181467</td>\n",
       "      <td>37.85</td>\n",
       "      <td>-122.25</td>\n",
       "    </tr>\n",
       "  </tbody>\n",
       "</table>\n",
       "</div>"
      ],
      "text/plain": [
       "   MedInc  HouseAge  AveRooms  AveBedrms  Population  AveOccup  Latitude  \\\n",
       "0  8.3252      41.0  6.984127   1.023810       322.0  2.555556     37.88   \n",
       "1  8.3014      21.0  6.238137   0.971880      2401.0  2.109842     37.86   \n",
       "2  7.2574      52.0  8.288136   1.073446       496.0  2.802260     37.85   \n",
       "3  5.6431      52.0  5.817352   1.073059       558.0  2.547945     37.85   \n",
       "4  3.8462      52.0  6.281853   1.081081       565.0  2.181467     37.85   \n",
       "\n",
       "   Longitude  \n",
       "0    -122.23  \n",
       "1    -122.22  \n",
       "2    -122.24  \n",
       "3    -122.25  \n",
       "4    -122.25  "
      ]
     },
     "execution_count": 18,
     "metadata": {},
     "output_type": "execute_result"
    }
   ],
   "source": [
    "data.drop('House Value', axis=1).head()"
   ]
  },
  {
   "cell_type": "code",
   "execution_count": 19,
   "metadata": {},
   "outputs": [],
   "source": [
    "scaler = MinMaxScaler()\n",
    "data_normalized = scaler.fit_transform(data.drop('House Value', axis=1))\n",
    "data_normalized = pd.DataFrame(data_normalized, columns=data.drop('House Value', axis=1).columns)"
   ]
  },
  {
   "cell_type": "markdown",
   "metadata": {},
   "source": [
    "## 정규화 후"
   ]
  },
  {
   "cell_type": "code",
   "execution_count": 20,
   "metadata": {},
   "outputs": [
    {
     "data": {
      "text/html": [
       "<div>\n",
       "<style scoped>\n",
       "    .dataframe tbody tr th:only-of-type {\n",
       "        vertical-align: middle;\n",
       "    }\n",
       "\n",
       "    .dataframe tbody tr th {\n",
       "        vertical-align: top;\n",
       "    }\n",
       "\n",
       "    .dataframe thead th {\n",
       "        text-align: right;\n",
       "    }\n",
       "</style>\n",
       "<table border=\"1\" class=\"dataframe\">\n",
       "  <thead>\n",
       "    <tr style=\"text-align: right;\">\n",
       "      <th></th>\n",
       "      <th>MedInc</th>\n",
       "      <th>HouseAge</th>\n",
       "      <th>AveRooms</th>\n",
       "      <th>AveBedrms</th>\n",
       "      <th>Population</th>\n",
       "      <th>AveOccup</th>\n",
       "      <th>Latitude</th>\n",
       "      <th>Longitude</th>\n",
       "    </tr>\n",
       "  </thead>\n",
       "  <tbody>\n",
       "    <tr>\n",
       "      <th>0</th>\n",
       "      <td>0.539668</td>\n",
       "      <td>0.784314</td>\n",
       "      <td>0.043512</td>\n",
       "      <td>0.020469</td>\n",
       "      <td>0.008941</td>\n",
       "      <td>0.001499</td>\n",
       "      <td>0.567481</td>\n",
       "      <td>0.211155</td>\n",
       "    </tr>\n",
       "    <tr>\n",
       "      <th>1</th>\n",
       "      <td>0.538027</td>\n",
       "      <td>0.392157</td>\n",
       "      <td>0.038224</td>\n",
       "      <td>0.018929</td>\n",
       "      <td>0.067210</td>\n",
       "      <td>0.001141</td>\n",
       "      <td>0.565356</td>\n",
       "      <td>0.212151</td>\n",
       "    </tr>\n",
       "    <tr>\n",
       "      <th>2</th>\n",
       "      <td>0.466028</td>\n",
       "      <td>1.000000</td>\n",
       "      <td>0.052756</td>\n",
       "      <td>0.021940</td>\n",
       "      <td>0.013818</td>\n",
       "      <td>0.001698</td>\n",
       "      <td>0.564293</td>\n",
       "      <td>0.210159</td>\n",
       "    </tr>\n",
       "    <tr>\n",
       "      <th>3</th>\n",
       "      <td>0.354699</td>\n",
       "      <td>1.000000</td>\n",
       "      <td>0.035241</td>\n",
       "      <td>0.021929</td>\n",
       "      <td>0.015555</td>\n",
       "      <td>0.001493</td>\n",
       "      <td>0.564293</td>\n",
       "      <td>0.209163</td>\n",
       "    </tr>\n",
       "    <tr>\n",
       "      <th>4</th>\n",
       "      <td>0.230776</td>\n",
       "      <td>1.000000</td>\n",
       "      <td>0.038534</td>\n",
       "      <td>0.022166</td>\n",
       "      <td>0.015752</td>\n",
       "      <td>0.001198</td>\n",
       "      <td>0.564293</td>\n",
       "      <td>0.209163</td>\n",
       "    </tr>\n",
       "  </tbody>\n",
       "</table>\n",
       "</div>"
      ],
      "text/plain": [
       "     MedInc  HouseAge  AveRooms  AveBedrms  Population  AveOccup  Latitude  \\\n",
       "0  0.539668  0.784314  0.043512   0.020469    0.008941  0.001499  0.567481   \n",
       "1  0.538027  0.392157  0.038224   0.018929    0.067210  0.001141  0.565356   \n",
       "2  0.466028  1.000000  0.052756   0.021940    0.013818  0.001698  0.564293   \n",
       "3  0.354699  1.000000  0.035241   0.021929    0.015555  0.001493  0.564293   \n",
       "4  0.230776  1.000000  0.038534   0.022166    0.015752  0.001198  0.564293   \n",
       "\n",
       "   Longitude  \n",
       "0   0.211155  \n",
       "1   0.212151  \n",
       "2   0.210159  \n",
       "3   0.209163  \n",
       "4   0.209163  "
      ]
     },
     "execution_count": 20,
     "metadata": {},
     "output_type": "execute_result"
    }
   ],
   "source": [
    "data_normalized.head()"
   ]
  },
  {
   "cell_type": "markdown",
   "metadata": {},
   "source": [
    "## 정규화 전"
   ]
  },
  {
   "cell_type": "code",
   "execution_count": 21,
   "metadata": {},
   "outputs": [],
   "source": [
    "X_train, X_test, y_train, y_test = train_test_split(data_normalized, data['House Value'], test_size=0.3, random_state=20190625)"
   ]
  },
  {
   "cell_type": "code",
   "execution_count": 22,
   "metadata": {},
   "outputs": [
    {
     "data": {
      "text/html": [
       "<table class=\"simpletable\">\n",
       "<caption>OLS Regression Results</caption>\n",
       "<tr>\n",
       "  <th>Dep. Variable:</th>       <td>House Value</td>   <th>  R-squared (uncentered):</th>      <td>   0.893</td> \n",
       "</tr>\n",
       "<tr>\n",
       "  <th>Model:</th>                   <td>OLS</td>       <th>  Adj. R-squared (uncentered):</th> <td>   0.893</td> \n",
       "</tr>\n",
       "<tr>\n",
       "  <th>Method:</th>             <td>Least Squares</td>  <th>  F-statistic:       </th>          <td>1.510e+04</td>\n",
       "</tr>\n",
       "<tr>\n",
       "  <th>Date:</th>             <td>Thu, 13 May 2021</td> <th>  Prob (F-statistic):</th>           <td>  0.00</td>  \n",
       "</tr>\n",
       "<tr>\n",
       "  <th>Time:</th>                 <td>15:20:15</td>     <th>  Log-Likelihood:    </th>          <td> -16791.</td> \n",
       "</tr>\n",
       "<tr>\n",
       "  <th>No. Observations:</th>      <td> 14448</td>      <th>  AIC:               </th>          <td>3.360e+04</td>\n",
       "</tr>\n",
       "<tr>\n",
       "  <th>Df Residuals:</th>          <td> 14440</td>      <th>  BIC:               </th>          <td>3.366e+04</td>\n",
       "</tr>\n",
       "<tr>\n",
       "  <th>Df Model:</th>              <td>     8</td>      <th>                     </th>              <td> </td>    \n",
       "</tr>\n",
       "<tr>\n",
       "  <th>Covariance Type:</th>      <td>nonrobust</td>    <th>                     </th>              <td> </td>    \n",
       "</tr>\n",
       "</table>\n",
       "<table class=\"simpletable\">\n",
       "<tr>\n",
       "       <td></td>         <th>coef</th>     <th>std err</th>      <th>t</th>      <th>P>|t|</th>  <th>[0.025</th>    <th>0.975]</th>  \n",
       "</tr>\n",
       "<tr>\n",
       "  <th>MedInc</th>     <td>    7.8679</td> <td>    0.067</td> <td>  117.883</td> <td> 0.000</td> <td>    7.737</td> <td>    7.999</td>\n",
       "</tr>\n",
       "<tr>\n",
       "  <th>HouseAge</th>   <td>    1.1197</td> <td>    0.025</td> <td>   44.144</td> <td> 0.000</td> <td>    1.070</td> <td>    1.169</td>\n",
       "</tr>\n",
       "<tr>\n",
       "  <th>AveRooms</th>   <td>  -26.5694</td> <td>    1.006</td> <td>  -26.402</td> <td> 0.000</td> <td>  -28.542</td> <td>  -24.597</td>\n",
       "</tr>\n",
       "<tr>\n",
       "  <th>AveBedrms</th>  <td>   32.7417</td> <td>    1.136</td> <td>   28.813</td> <td> 0.000</td> <td>   30.514</td> <td>   34.969</td>\n",
       "</tr>\n",
       "<tr>\n",
       "  <th>Population</th> <td>    2.4437</td> <td>    0.212</td> <td>   11.552</td> <td> 0.000</td> <td>    2.029</td> <td>    2.858</td>\n",
       "</tr>\n",
       "<tr>\n",
       "  <th>AveOccup</th>   <td>   -6.2851</td> <td>    1.221</td> <td>   -5.149</td> <td> 0.000</td> <td>   -8.678</td> <td>   -3.892</td>\n",
       "</tr>\n",
       "<tr>\n",
       "  <th>Latitude</th>   <td>   -0.4747</td> <td>    0.032</td> <td>  -14.705</td> <td> 0.000</td> <td>   -0.538</td> <td>   -0.411</td>\n",
       "</tr>\n",
       "<tr>\n",
       "  <th>Longitude</th>  <td>   -0.4212</td> <td>    0.034</td> <td>  -12.556</td> <td> 0.000</td> <td>   -0.487</td> <td>   -0.355</td>\n",
       "</tr>\n",
       "</table>\n",
       "<table class=\"simpletable\">\n",
       "<tr>\n",
       "  <th>Omnibus:</th>       <td>2627.132</td> <th>  Durbin-Watson:     </th> <td>   2.009</td> \n",
       "</tr>\n",
       "<tr>\n",
       "  <th>Prob(Omnibus):</th>  <td> 0.000</td>  <th>  Jarque-Bera (JB):  </th> <td>13708.737</td>\n",
       "</tr>\n",
       "<tr>\n",
       "  <th>Skew:</th>           <td> 0.781</td>  <th>  Prob(JB):          </th> <td>    0.00</td> \n",
       "</tr>\n",
       "<tr>\n",
       "  <th>Kurtosis:</th>       <td> 7.509</td>  <th>  Cond. No.          </th> <td>    196.</td> \n",
       "</tr>\n",
       "</table><br/><br/>Notes:<br/>[1] R² is computed without centering (uncentered) since the model does not contain a constant.<br/>[2] Standard Errors assume that the covariance matrix of the errors is correctly specified."
      ],
      "text/plain": [
       "<class 'statsmodels.iolib.summary.Summary'>\n",
       "\"\"\"\n",
       "                                 OLS Regression Results                                \n",
       "=======================================================================================\n",
       "Dep. Variable:            House Value   R-squared (uncentered):                   0.893\n",
       "Model:                            OLS   Adj. R-squared (uncentered):              0.893\n",
       "Method:                 Least Squares   F-statistic:                          1.510e+04\n",
       "Date:                Thu, 13 May 2021   Prob (F-statistic):                        0.00\n",
       "Time:                        15:20:15   Log-Likelihood:                         -16791.\n",
       "No. Observations:               14448   AIC:                                  3.360e+04\n",
       "Df Residuals:                   14440   BIC:                                  3.366e+04\n",
       "Df Model:                           8                                                  \n",
       "Covariance Type:            nonrobust                                                  \n",
       "==============================================================================\n",
       "                 coef    std err          t      P>|t|      [0.025      0.975]\n",
       "------------------------------------------------------------------------------\n",
       "MedInc         7.8679      0.067    117.883      0.000       7.737       7.999\n",
       "HouseAge       1.1197      0.025     44.144      0.000       1.070       1.169\n",
       "AveRooms     -26.5694      1.006    -26.402      0.000     -28.542     -24.597\n",
       "AveBedrms     32.7417      1.136     28.813      0.000      30.514      34.969\n",
       "Population     2.4437      0.212     11.552      0.000       2.029       2.858\n",
       "AveOccup      -6.2851      1.221     -5.149      0.000      -8.678      -3.892\n",
       "Latitude      -0.4747      0.032    -14.705      0.000      -0.538      -0.411\n",
       "Longitude     -0.4212      0.034    -12.556      0.000      -0.487      -0.355\n",
       "==============================================================================\n",
       "Omnibus:                     2627.132   Durbin-Watson:                   2.009\n",
       "Prob(Omnibus):                  0.000   Jarque-Bera (JB):            13708.737\n",
       "Skew:                           0.781   Prob(JB):                         0.00\n",
       "Kurtosis:                       7.509   Cond. No.                         196.\n",
       "==============================================================================\n",
       "\n",
       "Notes:\n",
       "[1] R² is computed without centering (uncentered) since the model does not contain a constant.\n",
       "[2] Standard Errors assume that the covariance matrix of the errors is correctly specified.\n",
       "\"\"\""
      ]
     },
     "metadata": {},
     "output_type": "display_data"
    }
   ],
   "source": [
    "lm_norm = sm.OLS(y_train, X_train)\n",
    "lm_norm_trained = lm_norm.fit()\n",
    "display(lm_norm_trained.summary())"
   ]
  },
  {
   "cell_type": "code",
   "execution_count": 23,
   "metadata": {},
   "outputs": [
    {
     "data": {
      "text/plain": [
       "4051     2.063705\n",
       "17595    1.888440\n",
       "7100     2.974386\n",
       "7263     1.881730\n",
       "12717    2.611984\n",
       "dtype: float64"
      ]
     },
     "execution_count": 23,
     "metadata": {},
     "output_type": "execute_result"
    }
   ],
   "source": [
    "y_pred = lm_norm_trained.predict(X_test)\n",
    "y_pred.head()"
   ]
  },
  {
   "cell_type": "code",
   "execution_count": 24,
   "metadata": {},
   "outputs": [
    {
     "name": "stdout",
     "output_type": "stream",
     "text": [
      "Testing MSE: 0.626 → 0.615\n",
      "Testing RMSE: 0.791 → 0.784\n",
      "Testing MAE: 0.574 → 0.568\n",
      "Testing MAPE: 34.261 → 33.378\n"
     ]
    }
   ],
   "source": [
    "test_mse_norm = mean_squared_error(y_test, y_pred)\n",
    "test_rmse_norm = np.sqrt(mean_squared_error(y_test, y_pred))\n",
    "test_mae_norm = mean_absolute_error(y_test, y_pred)\n",
    "test_mape_norm = mean_absolute_percentage_error(y_test, y_pred)\n",
    "print('Testing MSE: {:.3f} → {:.3f}'.format(test_mse, test_mse_norm))\n",
    "print('Testing RMSE: {:.3f} → {:.3f}'.format(test_rmse, test_rmse_norm))\n",
    "print('Testing MAE: {:.3f} → {:.3f}'.format(test_mae, test_mae_norm))\n",
    "print('Testing MAPE: {:.3f} → {:.3f}'.format(test_mape, test_mape_norm))"
   ]
  },
  {
   "cell_type": "markdown",
   "metadata": {},
   "source": [
    "### 반응변수(y)를 변환: $y$ 대신 $\\sqrt{y}$ 또는 $\\log y$를 예측하는 모델 학습\n",
    "-  $\\sqrt{y}$ "
   ]
  },
  {
   "cell_type": "code",
   "execution_count": 25,
   "metadata": {},
   "outputs": [],
   "source": [
    "train_data_new3 = train_data.copy()\n",
    "test_data_new3 = test_data.copy()"
   ]
  },
  {
   "cell_type": "code",
   "execution_count": 26,
   "metadata": {
    "scrolled": true
   },
   "outputs": [
    {
     "data": {
      "text/html": [
       "<table class=\"simpletable\">\n",
       "<caption>OLS Regression Results</caption>\n",
       "<tr>\n",
       "  <th>Dep. Variable:</th>       <td>House Value</td>   <th>  R-squared (uncentered):</th>      <td>   0.968</td> \n",
       "</tr>\n",
       "<tr>\n",
       "  <th>Model:</th>                   <td>OLS</td>       <th>  Adj. R-squared (uncentered):</th> <td>   0.967</td> \n",
       "</tr>\n",
       "<tr>\n",
       "  <th>Method:</th>             <td>Least Squares</td>  <th>  F-statistic:       </th>          <td>5.375e+04</td>\n",
       "</tr>\n",
       "<tr>\n",
       "  <th>Date:</th>             <td>Thu, 13 May 2021</td> <th>  Prob (F-statistic):</th>           <td>  0.00</td>  \n",
       "</tr>\n",
       "<tr>\n",
       "  <th>Time:</th>                 <td>15:20:17</td>     <th>  Log-Likelihood:    </th>          <td> -997.44</td> \n",
       "</tr>\n",
       "<tr>\n",
       "  <th>No. Observations:</th>      <td> 14448</td>      <th>  AIC:               </th>          <td>   2011.</td> \n",
       "</tr>\n",
       "<tr>\n",
       "  <th>Df Residuals:</th>          <td> 14440</td>      <th>  BIC:               </th>          <td>   2072.</td> \n",
       "</tr>\n",
       "<tr>\n",
       "  <th>Df Model:</th>              <td>     8</td>      <th>                     </th>              <td> </td>    \n",
       "</tr>\n",
       "<tr>\n",
       "  <th>Covariance Type:</th>      <td>nonrobust</td>    <th>                     </th>              <td> </td>    \n",
       "</tr>\n",
       "</table>\n",
       "<table class=\"simpletable\">\n",
       "<tr>\n",
       "       <td></td>         <th>coef</th>     <th>std err</th>      <th>t</th>      <th>P>|t|</th>  <th>[0.025</th>    <th>0.975]</th>  \n",
       "</tr>\n",
       "<tr>\n",
       "  <th>MedInc</th>     <td>    0.1702</td> <td>    0.002</td> <td>   98.726</td> <td> 0.000</td> <td>    0.167</td> <td>    0.174</td>\n",
       "</tr>\n",
       "<tr>\n",
       "  <th>HouseAge</th>   <td>    0.0048</td> <td>    0.000</td> <td>   26.280</td> <td> 0.000</td> <td>    0.004</td> <td>    0.005</td>\n",
       "</tr>\n",
       "<tr>\n",
       "  <th>AveRooms</th>   <td>   -0.0620</td> <td>    0.003</td> <td>  -24.641</td> <td> 0.000</td> <td>   -0.067</td> <td>   -0.057</td>\n",
       "</tr>\n",
       "<tr>\n",
       "  <th>AveBedrms</th>  <td>    0.3085</td> <td>    0.013</td> <td>   23.875</td> <td> 0.000</td> <td>    0.283</td> <td>    0.334</td>\n",
       "</tr>\n",
       "<tr>\n",
       "  <th>Population</th> <td> 6.281e-06</td> <td> 2.04e-06</td> <td>    3.078</td> <td> 0.002</td> <td> 2.28e-06</td> <td> 1.03e-05</td>\n",
       "</tr>\n",
       "<tr>\n",
       "  <th>AveOccup</th>   <td>   -0.0014</td> <td>    0.000</td> <td>   -7.899</td> <td> 0.000</td> <td>   -0.002</td> <td>   -0.001</td>\n",
       "</tr>\n",
       "<tr>\n",
       "  <th>Latitude</th>   <td>   -0.0359</td> <td>    0.001</td> <td>  -24.980</td> <td> 0.000</td> <td>   -0.039</td> <td>   -0.033</td>\n",
       "</tr>\n",
       "<tr>\n",
       "  <th>Longitude</th>  <td>   -0.0155</td> <td>    0.000</td> <td>  -33.914</td> <td> 0.000</td> <td>   -0.016</td> <td>   -0.015</td>\n",
       "</tr>\n",
       "</table>\n",
       "<table class=\"simpletable\">\n",
       "<tr>\n",
       "  <th>Omnibus:</th>       <td>1173.191</td> <th>  Durbin-Watson:     </th> <td>   2.010</td>\n",
       "</tr>\n",
       "<tr>\n",
       "  <th>Prob(Omnibus):</th>  <td> 0.000</td>  <th>  Jarque-Bera (JB):  </th> <td>2598.618</td>\n",
       "</tr>\n",
       "<tr>\n",
       "  <th>Skew:</th>           <td> 0.520</td>  <th>  Prob(JB):          </th> <td>    0.00</td>\n",
       "</tr>\n",
       "<tr>\n",
       "  <th>Kurtosis:</th>       <td> 4.799</td>  <th>  Cond. No.          </th> <td>1.11e+04</td>\n",
       "</tr>\n",
       "</table><br/><br/>Notes:<br/>[1] R² is computed without centering (uncentered) since the model does not contain a constant.<br/>[2] Standard Errors assume that the covariance matrix of the errors is correctly specified.<br/>[3] The condition number is large, 1.11e+04. This might indicate that there are<br/>strong multicollinearity or other numerical problems."
      ],
      "text/plain": [
       "<class 'statsmodels.iolib.summary.Summary'>\n",
       "\"\"\"\n",
       "                                 OLS Regression Results                                \n",
       "=======================================================================================\n",
       "Dep. Variable:            House Value   R-squared (uncentered):                   0.968\n",
       "Model:                            OLS   Adj. R-squared (uncentered):              0.967\n",
       "Method:                 Least Squares   F-statistic:                          5.375e+04\n",
       "Date:                Thu, 13 May 2021   Prob (F-statistic):                        0.00\n",
       "Time:                        15:20:17   Log-Likelihood:                         -997.44\n",
       "No. Observations:               14448   AIC:                                      2011.\n",
       "Df Residuals:                   14440   BIC:                                      2072.\n",
       "Df Model:                           8                                                  \n",
       "Covariance Type:            nonrobust                                                  \n",
       "==============================================================================\n",
       "                 coef    std err          t      P>|t|      [0.025      0.975]\n",
       "------------------------------------------------------------------------------\n",
       "MedInc         0.1702      0.002     98.726      0.000       0.167       0.174\n",
       "HouseAge       0.0048      0.000     26.280      0.000       0.004       0.005\n",
       "AveRooms      -0.0620      0.003    -24.641      0.000      -0.067      -0.057\n",
       "AveBedrms      0.3085      0.013     23.875      0.000       0.283       0.334\n",
       "Population  6.281e-06   2.04e-06      3.078      0.002    2.28e-06    1.03e-05\n",
       "AveOccup      -0.0014      0.000     -7.899      0.000      -0.002      -0.001\n",
       "Latitude      -0.0359      0.001    -24.980      0.000      -0.039      -0.033\n",
       "Longitude     -0.0155      0.000    -33.914      0.000      -0.016      -0.015\n",
       "==============================================================================\n",
       "Omnibus:                     1173.191   Durbin-Watson:                   2.010\n",
       "Prob(Omnibus):                  0.000   Jarque-Bera (JB):             2598.618\n",
       "Skew:                           0.520   Prob(JB):                         0.00\n",
       "Kurtosis:                       4.799   Cond. No.                     1.11e+04\n",
       "==============================================================================\n",
       "\n",
       "Notes:\n",
       "[1] R² is computed without centering (uncentered) since the model does not contain a constant.\n",
       "[2] Standard Errors assume that the covariance matrix of the errors is correctly specified.\n",
       "[3] The condition number is large, 1.11e+04. This might indicate that there are\n",
       "strong multicollinearity or other numerical problems.\n",
       "\"\"\""
      ]
     },
     "metadata": {},
     "output_type": "display_data"
    }
   ],
   "source": [
    "train_data_new3['House Value'] = np.sqrt(train_data_new3['House Value'].values)\n",
    "\n",
    "lm_new3 = sm.OLS(train_data_new3['House Value'], train_data_new3.drop('House Value', axis=1))\n",
    "lm_trained_new3 = lm_new3.fit()\n",
    "display(lm_trained_new3.summary())"
   ]
  },
  {
   "cell_type": "code",
   "execution_count": 27,
   "metadata": {},
   "outputs": [
    {
     "data": {
      "text/plain": [
       "6380     1.569566\n",
       "5256     2.844583\n",
       "2204     1.497855\n",
       "18982    1.315532\n",
       "14147    1.173572\n",
       "dtype: float64"
      ]
     },
     "execution_count": 27,
     "metadata": {},
     "output_type": "execute_result"
    }
   ],
   "source": [
    "test_pred_new3 = lm_trained_new3.predict(test_data_new3.drop('House Value', axis=1))\n",
    "test_pred_new3.head()"
   ]
  },
  {
   "cell_type": "code",
   "execution_count": 28,
   "metadata": {},
   "outputs": [
    {
     "data": {
      "text/plain": [
       "6380     2.463536\n",
       "5256     8.091655\n",
       "2204     2.243570\n",
       "18982    1.730623\n",
       "14147    1.377271\n",
       "dtype: float64"
      ]
     },
     "execution_count": 28,
     "metadata": {},
     "output_type": "execute_result"
    }
   ],
   "source": [
    "test_pred_new3 = np.square(test_pred_new3)\n",
    "test_pred_new3.head()"
   ]
  },
  {
   "cell_type": "code",
   "execution_count": 29,
   "metadata": {},
   "outputs": [
    {
     "name": "stdout",
     "output_type": "stream",
     "text": [
      "Testing MSE: 0.626 → 0.717\n",
      "Testing RMSE: 0.791 → 0.847\n",
      "Testing MAE: 0.574 → 0.574\n",
      "Testing MAPE: 34.261 → 32.416\n"
     ]
    }
   ],
   "source": [
    "test_mse_new3 = mean_squared_error(test_data_new3['House Value'], test_pred_new3)\n",
    "test_rmse_new3 = np.sqrt(mean_squared_error(test_data_new3['House Value'], test_pred_new3))\n",
    "test_mae_new3 = mean_absolute_error(test_data_new3['House Value'], test_pred_new3)\n",
    "test_mape_new3 = mean_absolute_percentage_error(test_data_new3['House Value'], test_pred_new3)\n",
    "print('Testing MSE: {:.3f} → {:.3f}'.format(test_mse, test_mse_new3))\n",
    "print('Testing RMSE: {:.3f} → {:.3f}'.format(test_rmse, test_rmse_new3))\n",
    "print('Testing MAE: {:.3f} → {:.3f}'.format(test_mae, test_mae_new3))\n",
    "print('Testing MAPE: {:.3f} → {:.3f}'.format(test_mape, test_mape_new3))"
   ]
  },
  {
   "cell_type": "markdown",
   "metadata": {},
   "source": [
    "$\\log y$"
   ]
  },
  {
   "cell_type": "code",
   "execution_count": 30,
   "metadata": {},
   "outputs": [],
   "source": [
    "train_data_new4 = train_data.copy()\n",
    "test_data_new4 = test_data.copy()"
   ]
  },
  {
   "cell_type": "code",
   "execution_count": 31,
   "metadata": {},
   "outputs": [
    {
     "data": {
      "text/html": [
       "<table class=\"simpletable\">\n",
       "<caption>OLS Regression Results</caption>\n",
       "<tr>\n",
       "  <th>Dep. Variable:</th>       <td>House Value</td>   <th>  R-squared (uncentered):</th>      <td>   0.756</td> \n",
       "</tr>\n",
       "<tr>\n",
       "  <th>Model:</th>                   <td>OLS</td>       <th>  Adj. R-squared (uncentered):</th> <td>   0.756</td> \n",
       "</tr>\n",
       "<tr>\n",
       "  <th>Method:</th>             <td>Least Squares</td>  <th>  F-statistic:       </th>          <td>   5607.</td> \n",
       "</tr>\n",
       "<tr>\n",
       "  <th>Date:</th>             <td>Thu, 13 May 2021</td> <th>  Prob (F-statistic):</th>           <td>  0.00</td>  \n",
       "</tr>\n",
       "<tr>\n",
       "  <th>Time:</th>                 <td>15:20:18</td>     <th>  Log-Likelihood:    </th>          <td> -7196.6</td> \n",
       "</tr>\n",
       "<tr>\n",
       "  <th>No. Observations:</th>      <td> 14448</td>      <th>  AIC:               </th>          <td>1.441e+04</td>\n",
       "</tr>\n",
       "<tr>\n",
       "  <th>Df Residuals:</th>          <td> 14440</td>      <th>  BIC:               </th>          <td>1.447e+04</td>\n",
       "</tr>\n",
       "<tr>\n",
       "  <th>Df Model:</th>              <td>     8</td>      <th>                     </th>              <td> </td>    \n",
       "</tr>\n",
       "<tr>\n",
       "  <th>Covariance Type:</th>      <td>nonrobust</td>    <th>                     </th>              <td> </td>    \n",
       "</tr>\n",
       "</table>\n",
       "<table class=\"simpletable\">\n",
       "<tr>\n",
       "       <td></td>         <th>coef</th>     <th>std err</th>      <th>t</th>      <th>P>|t|</th>  <th>[0.025</th>    <th>0.975]</th>  \n",
       "</tr>\n",
       "<tr>\n",
       "  <th>MedInc</th>     <td>    0.2406</td> <td>    0.003</td> <td>   90.849</td> <td> 0.000</td> <td>    0.235</td> <td>    0.246</td>\n",
       "</tr>\n",
       "<tr>\n",
       "  <th>HouseAge</th>   <td>    0.0065</td> <td>    0.000</td> <td>   22.875</td> <td> 0.000</td> <td>    0.006</td> <td>    0.007</td>\n",
       "</tr>\n",
       "<tr>\n",
       "  <th>AveRooms</th>   <td>   -0.0883</td> <td>    0.004</td> <td>  -22.831</td> <td> 0.000</td> <td>   -0.096</td> <td>   -0.081</td>\n",
       "</tr>\n",
       "<tr>\n",
       "  <th>AveBedrms</th>  <td>    0.4252</td> <td>    0.020</td> <td>   21.424</td> <td> 0.000</td> <td>    0.386</td> <td>    0.464</td>\n",
       "</tr>\n",
       "<tr>\n",
       "  <th>Population</th> <td> 1.537e-05</td> <td> 3.13e-06</td> <td>    4.904</td> <td> 0.000</td> <td> 9.23e-06</td> <td> 2.15e-05</td>\n",
       "</tr>\n",
       "<tr>\n",
       "  <th>AveOccup</th>   <td>   -0.0020</td> <td>    0.000</td> <td>   -7.454</td> <td> 0.000</td> <td>   -0.003</td> <td>   -0.001</td>\n",
       "</tr>\n",
       "<tr>\n",
       "  <th>Latitude</th>   <td>   -0.0502</td> <td>    0.002</td> <td>  -22.753</td> <td> 0.000</td> <td>   -0.054</td> <td>   -0.046</td>\n",
       "</tr>\n",
       "<tr>\n",
       "  <th>Longitude</th>  <td>   -0.0104</td> <td>    0.001</td> <td>  -14.735</td> <td> 0.000</td> <td>   -0.012</td> <td>   -0.009</td>\n",
       "</tr>\n",
       "</table>\n",
       "<table class=\"simpletable\">\n",
       "<tr>\n",
       "  <th>Omnibus:</th>       <td>550.904</td> <th>  Durbin-Watson:     </th> <td>   2.014</td>\n",
       "</tr>\n",
       "<tr>\n",
       "  <th>Prob(Omnibus):</th> <td> 0.000</td>  <th>  Jarque-Bera (JB):  </th> <td>1523.539</td>\n",
       "</tr>\n",
       "<tr>\n",
       "  <th>Skew:</th>          <td>-0.140</td>  <th>  Prob(JB):          </th> <td>    0.00</td>\n",
       "</tr>\n",
       "<tr>\n",
       "  <th>Kurtosis:</th>      <td> 4.566</td>  <th>  Cond. No.          </th> <td>1.11e+04</td>\n",
       "</tr>\n",
       "</table><br/><br/>Notes:<br/>[1] R² is computed without centering (uncentered) since the model does not contain a constant.<br/>[2] Standard Errors assume that the covariance matrix of the errors is correctly specified.<br/>[3] The condition number is large, 1.11e+04. This might indicate that there are<br/>strong multicollinearity or other numerical problems."
      ],
      "text/plain": [
       "<class 'statsmodels.iolib.summary.Summary'>\n",
       "\"\"\"\n",
       "                                 OLS Regression Results                                \n",
       "=======================================================================================\n",
       "Dep. Variable:            House Value   R-squared (uncentered):                   0.756\n",
       "Model:                            OLS   Adj. R-squared (uncentered):              0.756\n",
       "Method:                 Least Squares   F-statistic:                              5607.\n",
       "Date:                Thu, 13 May 2021   Prob (F-statistic):                        0.00\n",
       "Time:                        15:20:18   Log-Likelihood:                         -7196.6\n",
       "No. Observations:               14448   AIC:                                  1.441e+04\n",
       "Df Residuals:                   14440   BIC:                                  1.447e+04\n",
       "Df Model:                           8                                                  \n",
       "Covariance Type:            nonrobust                                                  \n",
       "==============================================================================\n",
       "                 coef    std err          t      P>|t|      [0.025      0.975]\n",
       "------------------------------------------------------------------------------\n",
       "MedInc         0.2406      0.003     90.849      0.000       0.235       0.246\n",
       "HouseAge       0.0065      0.000     22.875      0.000       0.006       0.007\n",
       "AveRooms      -0.0883      0.004    -22.831      0.000      -0.096      -0.081\n",
       "AveBedrms      0.4252      0.020     21.424      0.000       0.386       0.464\n",
       "Population  1.537e-05   3.13e-06      4.904      0.000    9.23e-06    2.15e-05\n",
       "AveOccup      -0.0020      0.000     -7.454      0.000      -0.003      -0.001\n",
       "Latitude      -0.0502      0.002    -22.753      0.000      -0.054      -0.046\n",
       "Longitude     -0.0104      0.001    -14.735      0.000      -0.012      -0.009\n",
       "==============================================================================\n",
       "Omnibus:                      550.904   Durbin-Watson:                   2.014\n",
       "Prob(Omnibus):                  0.000   Jarque-Bera (JB):             1523.539\n",
       "Skew:                          -0.140   Prob(JB):                         0.00\n",
       "Kurtosis:                       4.566   Cond. No.                     1.11e+04\n",
       "==============================================================================\n",
       "\n",
       "Notes:\n",
       "[1] R² is computed without centering (uncentered) since the model does not contain a constant.\n",
       "[2] Standard Errors assume that the covariance matrix of the errors is correctly specified.\n",
       "[3] The condition number is large, 1.11e+04. This might indicate that there are\n",
       "strong multicollinearity or other numerical problems.\n",
       "\"\"\""
      ]
     },
     "metadata": {},
     "output_type": "display_data"
    }
   ],
   "source": [
    "train_data_new4['House Value'] = np.log(train_data_new4['House Value'].values)\n",
    "\n",
    "lm_new4 = sm.OLS(train_data_new4['House Value'], train_data_new4.drop('House Value', axis=1))\n",
    "lm_trained_new4 = lm_new4.fit()\n",
    "display(lm_trained_new4.summary())"
   ]
  },
  {
   "cell_type": "code",
   "execution_count": 32,
   "metadata": {},
   "outputs": [
    {
     "data": {
      "text/plain": [
       "6380     0.837939\n",
       "5256     2.643121\n",
       "2204     0.727098\n",
       "18982    0.456954\n",
       "14147    0.293723\n",
       "dtype: float64"
      ]
     },
     "execution_count": 32,
     "metadata": {},
     "output_type": "execute_result"
    }
   ],
   "source": [
    "test_pred_new4 = lm_trained_new4.predict(test_data_new4.drop('House Value', axis=1))\n",
    "test_pred_new4.head()"
   ]
  },
  {
   "cell_type": "code",
   "execution_count": 33,
   "metadata": {},
   "outputs": [
    {
     "data": {
      "text/plain": [
       "6380      2.311598\n",
       "5256     14.057006\n",
       "2204      2.069067\n",
       "18982     1.579257\n",
       "14147     1.341412\n",
       "dtype: float64"
      ]
     },
     "execution_count": 33,
     "metadata": {},
     "output_type": "execute_result"
    }
   ],
   "source": [
    "test_pred_new4 = np.exp(test_pred_new4)\n",
    "test_pred_new4.head()"
   ]
  },
  {
   "cell_type": "code",
   "execution_count": 34,
   "metadata": {},
   "outputs": [
    {
     "name": "stdout",
     "output_type": "stream",
     "text": [
      "Testing MSE: 0.626 → 1.724\n",
      "Testing RMSE: 0.791 → 1.313\n",
      "Testing MAE: 0.574 → 0.574\n",
      "Testing MAPE: 34.261 → 33.076\n"
     ]
    }
   ],
   "source": [
    "test_mse_new4 = mean_squared_error(test_data_new4['House Value'], test_pred_new4)\n",
    "test_rmse_new4 = np.sqrt(mean_squared_error(test_data_new4['House Value'], test_pred_new4))\n",
    "test_mae_new4 = mean_absolute_error(test_data_new4['House Value'], test_pred_new3)\n",
    "test_mape_new4 = mean_absolute_percentage_error(test_data_new4['House Value'], test_pred_new4)\n",
    "print('Testing MSE: {:.3f} → {:.3f}'.format(test_mse, test_mse_new4))\n",
    "print('Testing RMSE: {:.3f} → {:.3f}'.format(test_rmse, test_rmse_new4))\n",
    "print('Testing MAE: {:.3f} → {:.3f}'.format(test_mae, test_mae_new4))\n",
    "print('Testing MAPE: {:.3f} → {:.3f}'.format(test_mape, test_mape_new4))"
   ]
  }
 ],
 "metadata": {
  "kernelspec": {
   "display_name": "Python 3",
   "language": "python",
   "name": "python3"
  },
  "language_info": {
   "codemirror_mode": {
    "name": "ipython",
    "version": 3
   },
   "file_extension": ".py",
   "mimetype": "text/x-python",
   "name": "python",
   "nbconvert_exporter": "python",
   "pygments_lexer": "ipython3",
   "version": "3.8.8"
  }
 },
 "nbformat": 4,
 "nbformat_minor": 2
}
