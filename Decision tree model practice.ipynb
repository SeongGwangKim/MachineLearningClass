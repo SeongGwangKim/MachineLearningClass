{
 "cells": [
  {
   "cell_type": "code",
   "execution_count": 92,
   "metadata": {},
   "outputs": [],
   "source": [
    "from __future__ import absolute_import\n",
    "from __future__ import division\n",
    "from __future__ import print_function\n",
    "\n",
    "import numpy as np\n",
    "import pandas as pd\n",
    "import seaborn as sns\n",
    "import matplotlib.pyplot as plt\n",
    "import os\n",
    "\n",
    "from graphviz import Source\n",
    "from IPython.display import Image\n",
    "\n",
    "from sklearn.preprocessing import StandardScaler\n",
    "from sklearn.model_selection import train_test_split\n",
    "from sklearn.tree import DecisionTreeClassifier\n",
    "from sklearn.tree import export_graphviz\n",
    "from sklearn.metrics import accuracy_score,recall_score, precision_score\n",
    "from sklearn.metrics import confusion_matrix, roc_curve,f1_score, auc\n",
    "from sklearn.metrics import classification_report,roc_auc_score\n",
    "from sklearn.metrics import balanced_accuracy_score\n",
    "\n",
    "\n",
    "\n",
    "sns.set_style(\"whitegrid\")"
   ]
  },
  {
   "cell_type": "code",
   "execution_count": 34,
   "metadata": {},
   "outputs": [
    {
     "name": "stdout",
     "output_type": "stream",
     "text": [
      "- Data has 43386 rows and 27 columns.\n",
      "- Column names:  ['AGE', 'TOT_LOAN', 'TOT_LOAN_CRD', 'LOAN_BNK', 'LOAN_CPT', 'CRDT_CNT', 'GUARN_CNT', 'INCOME', 'LOAN_CRD_CNT', 'LATE_RATE', 'LATE_RATE_1Y', 'INS_MON_MAX', 'CANCEL_CNT_1Y', 'CALL_TIME', 'TEL_COST_MON', 'MOBILE_PRICE', 'SUSP_DAY', 'LATE_TEL', 'COMB_COMM', 'SEX', 'PAY_METHOD_B', 'PAY_METHOD_C', 'PAY_METHOD_D', 'JOB_B', 'JOB_C', 'JOB_D', 'TARGET']\n"
     ]
    }
   ],
   "source": [
    "data = pd.read_csv(\"loan_data.csv\")\n",
    "print(\"- Data has {} rows and {} columns.\".format(*data.shape))\n",
    "print(\"- Column names: \", list(data.columns))"
   ]
  },
  {
   "cell_type": "code",
   "execution_count": 35,
   "metadata": {},
   "outputs": [
    {
     "data": {
      "text/html": [
       "<div>\n",
       "<style scoped>\n",
       "    .dataframe tbody tr th:only-of-type {\n",
       "        vertical-align: middle;\n",
       "    }\n",
       "\n",
       "    .dataframe tbody tr th {\n",
       "        vertical-align: top;\n",
       "    }\n",
       "\n",
       "    .dataframe thead th {\n",
       "        text-align: right;\n",
       "    }\n",
       "</style>\n",
       "<table border=\"1\" class=\"dataframe\">\n",
       "  <thead>\n",
       "    <tr style=\"text-align: right;\">\n",
       "      <th></th>\n",
       "      <th>AGE</th>\n",
       "      <th>TOT_LOAN</th>\n",
       "      <th>TOT_LOAN_CRD</th>\n",
       "      <th>LOAN_BNK</th>\n",
       "      <th>LOAN_CPT</th>\n",
       "      <th>CRDT_CNT</th>\n",
       "      <th>GUARN_CNT</th>\n",
       "      <th>INCOME</th>\n",
       "      <th>LOAN_CRD_CNT</th>\n",
       "      <th>LATE_RATE</th>\n",
       "      <th>...</th>\n",
       "      <th>LATE_TEL</th>\n",
       "      <th>COMB_COMM</th>\n",
       "      <th>SEX</th>\n",
       "      <th>PAY_METHOD_B</th>\n",
       "      <th>PAY_METHOD_C</th>\n",
       "      <th>PAY_METHOD_D</th>\n",
       "      <th>JOB_B</th>\n",
       "      <th>JOB_C</th>\n",
       "      <th>JOB_D</th>\n",
       "      <th>TARGET</th>\n",
       "    </tr>\n",
       "  </thead>\n",
       "  <tbody>\n",
       "    <tr>\n",
       "      <th>0</th>\n",
       "      <td>40</td>\n",
       "      <td>6</td>\n",
       "      <td>6</td>\n",
       "      <td>6</td>\n",
       "      <td>0</td>\n",
       "      <td>0</td>\n",
       "      <td>0</td>\n",
       "      <td>4500</td>\n",
       "      <td>0</td>\n",
       "      <td>16</td>\n",
       "      <td>...</td>\n",
       "      <td>120</td>\n",
       "      <td>0</td>\n",
       "      <td>1</td>\n",
       "      <td>0</td>\n",
       "      <td>0</td>\n",
       "      <td>0</td>\n",
       "      <td>0</td>\n",
       "      <td>0</td>\n",
       "      <td>0</td>\n",
       "      <td>0</td>\n",
       "    </tr>\n",
       "    <tr>\n",
       "      <th>1</th>\n",
       "      <td>35</td>\n",
       "      <td>9</td>\n",
       "      <td>9</td>\n",
       "      <td>0</td>\n",
       "      <td>0</td>\n",
       "      <td>1</td>\n",
       "      <td>0</td>\n",
       "      <td>3700</td>\n",
       "      <td>0</td>\n",
       "      <td>9</td>\n",
       "      <td>...</td>\n",
       "      <td>0</td>\n",
       "      <td>0</td>\n",
       "      <td>1</td>\n",
       "      <td>0</td>\n",
       "      <td>1</td>\n",
       "      <td>0</td>\n",
       "      <td>1</td>\n",
       "      <td>0</td>\n",
       "      <td>0</td>\n",
       "      <td>0</td>\n",
       "    </tr>\n",
       "    <tr>\n",
       "      <th>2</th>\n",
       "      <td>55</td>\n",
       "      <td>9</td>\n",
       "      <td>9</td>\n",
       "      <td>0</td>\n",
       "      <td>0</td>\n",
       "      <td>0</td>\n",
       "      <td>0</td>\n",
       "      <td>6400</td>\n",
       "      <td>0</td>\n",
       "      <td>1</td>\n",
       "      <td>...</td>\n",
       "      <td>0</td>\n",
       "      <td>0</td>\n",
       "      <td>1</td>\n",
       "      <td>0</td>\n",
       "      <td>1</td>\n",
       "      <td>0</td>\n",
       "      <td>1</td>\n",
       "      <td>0</td>\n",
       "      <td>0</td>\n",
       "      <td>0</td>\n",
       "    </tr>\n",
       "    <tr>\n",
       "      <th>3</th>\n",
       "      <td>55</td>\n",
       "      <td>42</td>\n",
       "      <td>0</td>\n",
       "      <td>42</td>\n",
       "      <td>0</td>\n",
       "      <td>5</td>\n",
       "      <td>0</td>\n",
       "      <td>8900</td>\n",
       "      <td>0</td>\n",
       "      <td>13</td>\n",
       "      <td>...</td>\n",
       "      <td>0</td>\n",
       "      <td>0</td>\n",
       "      <td>1</td>\n",
       "      <td>1</td>\n",
       "      <td>0</td>\n",
       "      <td>0</td>\n",
       "      <td>0</td>\n",
       "      <td>1</td>\n",
       "      <td>0</td>\n",
       "      <td>0</td>\n",
       "    </tr>\n",
       "    <tr>\n",
       "      <th>4</th>\n",
       "      <td>40</td>\n",
       "      <td>36</td>\n",
       "      <td>36</td>\n",
       "      <td>36</td>\n",
       "      <td>0</td>\n",
       "      <td>3</td>\n",
       "      <td>1</td>\n",
       "      <td>0</td>\n",
       "      <td>0</td>\n",
       "      <td>2</td>\n",
       "      <td>...</td>\n",
       "      <td>0</td>\n",
       "      <td>1</td>\n",
       "      <td>0</td>\n",
       "      <td>1</td>\n",
       "      <td>0</td>\n",
       "      <td>0</td>\n",
       "      <td>1</td>\n",
       "      <td>0</td>\n",
       "      <td>0</td>\n",
       "      <td>0</td>\n",
       "    </tr>\n",
       "  </tbody>\n",
       "</table>\n",
       "<p>5 rows × 27 columns</p>\n",
       "</div>"
      ],
      "text/plain": [
       "   AGE  TOT_LOAN  TOT_LOAN_CRD  LOAN_BNK  LOAN_CPT  CRDT_CNT  GUARN_CNT  \\\n",
       "0   40         6             6         6         0         0          0   \n",
       "1   35         9             9         0         0         1          0   \n",
       "2   55         9             9         0         0         0          0   \n",
       "3   55        42             0        42         0         5          0   \n",
       "4   40        36            36        36         0         3          1   \n",
       "\n",
       "   INCOME  LOAN_CRD_CNT  LATE_RATE  ...  LATE_TEL  COMB_COMM  SEX  \\\n",
       "0    4500             0         16  ...       120          0    1   \n",
       "1    3700             0          9  ...         0          0    1   \n",
       "2    6400             0          1  ...         0          0    1   \n",
       "3    8900             0         13  ...         0          0    1   \n",
       "4       0             0          2  ...         0          1    0   \n",
       "\n",
       "   PAY_METHOD_B  PAY_METHOD_C  PAY_METHOD_D  JOB_B  JOB_C  JOB_D  TARGET  \n",
       "0             0             0             0      0      0      0       0  \n",
       "1             0             1             0      1      0      0       0  \n",
       "2             0             1             0      1      0      0       0  \n",
       "3             1             0             0      0      1      0       0  \n",
       "4             1             0             0      1      0      0       0  \n",
       "\n",
       "[5 rows x 27 columns]"
      ]
     },
     "execution_count": 35,
     "metadata": {},
     "output_type": "execute_result"
    }
   ],
   "source": [
    "data.head()"
   ]
  },
  {
   "cell_type": "code",
   "execution_count": 36,
   "metadata": {},
   "outputs": [
    {
     "data": {
      "text/plain": [
       "(array([0, 1], dtype=int64), array([39254,  4132], dtype=int64))"
      ]
     },
     "execution_count": 36,
     "metadata": {},
     "output_type": "execute_result"
    }
   ],
   "source": [
    "data['TARGET']\n",
    "np.unique(data['TARGET'], return_counts = True)"
   ]
  },
  {
   "cell_type": "code",
   "execution_count": 37,
   "metadata": {},
   "outputs": [
    {
     "name": "stderr",
     "output_type": "stream",
     "text": [
      "C:\\ProgramData\\Anaconda3\\lib\\site-packages\\seaborn\\_decorators.py:36: FutureWarning: Pass the following variable as a keyword arg: x. From version 0.12, the only valid positional argument will be `data`, and passing other arguments without an explicit keyword will result in an error or misinterpretation.\n",
      "  warnings.warn(\n"
     ]
    },
    {
     "data": {
      "text/plain": [
       "<AxesSubplot:xlabel='TARGET', ylabel='count'>"
      ]
     },
     "execution_count": 37,
     "metadata": {},
     "output_type": "execute_result"
    },
    {
     "data": {
      "image/png": "[encoded data removed]",
      "text/plain": [
       "<Figure size 432x288 with 1 Axes>"
      ]
     },
     "metadata": {},
     "output_type": "display_data"
    }
   ],
   "source": [
    "sns.countplot(data['TARGET'], palette='Set1')"
   ]
  },
  {
   "cell_type": "code",
   "execution_count": 38,
   "metadata": {},
   "outputs": [],
   "source": [
    "X = data.drop(['TARGET'], axis = 1)\n",
    "y = data['TARGET']\n",
    "\n",
    "X_train, X_test, y_train, y_test = train_test_split(X,y, test_size = 0.1, stratify=Y, random_state = 0)"
   ]
  },
  {
   "cell_type": "code",
   "execution_count": 39,
   "metadata": {},
   "outputs": [
    {
     "data": {
      "text/plain": [
       "(array([0, 1], dtype=int64), array([35328,  3719], dtype=int64))"
      ]
     },
     "execution_count": 39,
     "metadata": {},
     "output_type": "execute_result"
    }
   ],
   "source": [
    "np.unique(Y_train, return_counts = True)"
   ]
  },
  {
   "cell_type": "code",
   "execution_count": 40,
   "metadata": {},
   "outputs": [
    {
     "data": {
      "text/plain": [
       "(39047,)"
      ]
     },
     "execution_count": 40,
     "metadata": {},
     "output_type": "execute_result"
    }
   ],
   "source": [
    "y_train.shape"
   ]
  },
  {
   "cell_type": "code",
   "execution_count": 81,
   "metadata": {},
   "outputs": [
    {
     "data": {
      "text/plain": [
       "DecisionTreeClassifier(max_depth=5)"
      ]
     },
     "execution_count": 81,
     "metadata": {},
     "output_type": "execute_result"
    }
   ],
   "source": [
    "clf_dt = DecisionTreeClassifier(max_depth=5)\n",
    "clf_dt.fit(X_train, y_train)"
   ]
  },
  {
   "cell_type": "code",
   "execution_count": 82,
   "metadata": {},
   "outputs": [],
   "source": [
    "y_train_pred = clf_dt.predict(X_train)\n",
    "y_test_pred = clf_dt.predict(X_test)"
   ]
  },
  {
   "cell_type": "code",
   "execution_count": null,
   "metadata": {},
   "outputs": [],
   "source": [
    "y_test_pred2 = (clf_dt.predict_proba(X_test)[:,1]>=0.3).astype(bool)\n",
    "print(clf_dt.predict_proba(X_test))"
   ]
  },
  {
   "cell_type": "code",
   "execution_count": 83,
   "metadata": {},
   "outputs": [
    {
     "name": "stdout",
     "output_type": "stream",
     "text": [
      "[[34770   558]\n",
      " [ 2792   927]]\n",
      "[[3867   59]\n",
      " [ 310  103]]\n"
     ]
    }
   ],
   "source": [
    "print(confusion_matrix(y_train, y_train_pred))\n",
    "print(confusion_matrix(y_test, y_test_pred))"
   ]
  },
  {
   "cell_type": "code",
   "execution_count": 90,
   "metadata": {},
   "outputs": [
    {
     "name": "stdout",
     "output_type": "stream",
     "text": [
      "- Accuracy (Train)      : 0.9142\n",
      "- Accuracy (Test) : 0.915\n",
      "- F1 score (Train)      : 0.3563\n",
      "- precision score (Train)      : 0.6242\n",
      "- recall score (Train)      : 0.2493\n",
      "- recall score (Train)      : 0.4697\n",
      "- balanced accuracy scroe(Train)    : 0.6167\n"
     ]
    }
   ],
   "source": [
    "y_train_pred = clf_dt.predict(X_train)\n",
    "# y_valid_pred = clf_dt.predict(X_valid)\n",
    "\n",
    "# Show train & validation accuracies\n",
    "print('- Accuracy (Train)      : {:.4}'.format(accuracy_score(y_train, y_train_pred)))\n",
    "print('- Accuracy (Test) : {:.4}'.format(accuracy_score(y_test, y_test_pred)))\n",
    "# Show train & validation f1 scores\n",
    "print('- F1 score (Train)      : {:.4}'.format(f1_score(y_train, y_train_pred, pos_label=1)))\n",
    "#print('- F1 score (Validation) : {:.4}'.format(f1_score(y_test, y_test_pred, pos_label=1))\n",
    "\n",
    "# Show train & validation Precision scores\n",
    "print('- precision score (Train)      : {:.4}'.format(precision_score(y_train, y_train_pred, pos_label=1)))\n",
    "#print('- precision score (Validation) : {:.4}'.format(precision_score(y_valid, y_valid_pred, pos_label=1)))\n",
    "\n",
    "# Show train & validation recall scores\n",
    "print('- recall score (Train)      : {:.4}'.format(recall_score(y_train, y_train_pred, pos_label=1)))\n",
    "print('- recall score (Train)      : {:.4}'.format(recall_score(y_test, y_test_pred2, pos_label=1)))\n",
    "#print('- recall score (Validation) : {:.4}'.format(recall_score(y_valid, y_valid_pred, pos_label=1)))\n",
    "\n",
    "print('- balanced accuracy scroe(Train)    : {:.4}'.format(balanced_accuracy_score(y_train, y_train_pred)))"
   ]
  },
  {
   "cell_type": "code",
   "execution_count": 85,
   "metadata": {},
   "outputs": [],
   "source": [
    "y_score_train =clf_dt.predict_proba(X_train)\n",
    "y_score_test =clf_dt.predict_proba(X_test)"
   ]
  },
  {
   "cell_type": "code",
   "execution_count": 86,
   "metadata": {},
   "outputs": [
    {
     "name": "stdout",
     "output_type": "stream",
     "text": [
      "[[0.68023256 0.31976744]\n",
      " [0.99307857 0.00692143]\n",
      " [0.96395131 0.03604869]\n",
      " ...\n",
      " [0.96395131 0.03604869]\n",
      " [0.94449392 0.05550608]\n",
      " [0.56835307 0.43164693]]\n"
     ]
    }
   ],
   "source": [
    "y_test_pred2 = (clf_dt.predict_proba(X_test)[:,1]>=0.3).astype(bool)\n",
    "print(clf_dt.predict_proba(X_test))"
   ]
  },
  {
   "cell_type": "code",
   "execution_count": 89,
   "metadata": {},
   "outputs": [],
   "source": [
    "# np.unique(clf_dt.predict_proba(X_test).reshape(-1).return_counts=True)"
   ]
  },
  {
   "cell_type": "code",
   "execution_count": 88,
   "metadata": {},
   "outputs": [
    {
     "name": "stdout",
     "output_type": "stream",
     "text": [
      "0.8540508486911002\n"
     ]
    }
   ],
   "source": [
    "# Show ROC AUC\n",
    "fpr, tpr, thresholds =  roc_curve(y_test, y_score_test[:,1], pos_label=1)\n",
    "print(auc(fpr, tpr))"
   ]
  },
  {
   "cell_type": "code",
   "execution_count": null,
   "metadata": {},
   "outputs": [],
   "source": []
  }
 ],
 "metadata": {
  "kernelspec": {
   "display_name": "Python 3",
   "language": "python",
   "name": "python3"
  },
  "language_info": {
   "codemirror_mode": {
    "name": "ipython",
    "version": 3
   },
   "file_extension": ".py",
   "mimetype": "text/x-python",
   "name": "python",
   "nbconvert_exporter": "python",
   "pygments_lexer": "ipython3",
   "version": "3.8.8"
  }
 },
 "nbformat": 4,
 "nbformat_minor": 4
}
