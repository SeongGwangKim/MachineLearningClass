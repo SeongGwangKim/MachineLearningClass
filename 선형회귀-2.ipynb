{
 "cells": [
  {
   "cell_type": "markdown",
   "metadata": {},
   "source": [
    "# [선형회귀모델 실습 2: 예측 및 평가]"
   ]
  },
  {
   "cell_type": "markdown",
   "metadata": {},
   "source": [
    "## 1. 모듈 불러오기"
   ]
  },
  {
   "cell_type": "code",
   "execution_count": 1,
   "metadata": {},
   "outputs": [],
   "source": [
    "from IPython.display import display, HTML\n",
    "\n",
    "# 데이터 전처리 패키지\n",
    "import numpy as np\n",
    "import pandas as pd\n",
    "\n",
    "# 기계학습 모델 구축 및 성능 평가 패키지\n",
    "import statsmodels.api as sm\n",
    "import statsmodels.formula.api as smf\n",
    "import scipy as sp\n",
    "import scipy.stats as stats\n",
    "from sklearn.datasets import fetch_california_housing\n",
    "from sklearn.metrics import mean_squared_error, r2_score, mean_absolute_error\n",
    "from sklearn.model_selection import train_test_split\n",
    "\n",
    "# 데이터 시각화 패키지\n",
    "import seaborn as sns\n",
    "import matplotlib.pyplot as plt\n",
    "import matplotlib.font_manager as fm\n",
    "\n",
    "# 한글 폰트 설정\n",
    "plt.rc('font', family='Malgun Gothic')"
   ]
  },
  {
   "cell_type": "markdown",
   "metadata": {},
   "source": [
    "## 2. 데이터 불러오기: California Housing Data\n",
    "#### 데이터 구조  \n",
    "- 데이터: 1990년 캘리포니아의 각 행정 구역 내 주택 가격  \n",
    "- 관측치 개수: 20640개\n",
    "- 변수 개수: 설명변수 8개 / 반응변수 1개\n",
    "\n",
    "#### 설명 변수(예측값을 설명할 수 있는 변수)      \n",
    "- MedInc : 행정 구역 내 소득의 중앙값\n",
    "- HouseAge : 행정 구역 내 주택 연식의 중앙값\n",
    "- AveRooms : 평균 방 갯수\n",
    "- AveBedrms : 평균 침실 갯수\n",
    "- Population : 행정 구역 내 인구 수\n",
    "- AveOccup : 평균 자가 비율\n",
    "- Latitude : 해당 행정 구역의 위도\n",
    "- Longitude : 해당 행정 구역의 경도 \n",
    "\n",
    "#### 반응 변수(예측하고자 하는 값)\n",
    "- House Value: 주택가격"
   ]
  },
  {
   "cell_type": "code",
   "execution_count": 2,
   "metadata": {
    "scrolled": true
   },
   "outputs": [
    {
     "name": "stdout",
     "output_type": "stream",
     "text": [
      ".. _california_housing_dataset:\n",
      "\n",
      "California Housing dataset\n",
      "--------------------------\n",
      "\n",
      "**Data Set Characteristics:**\n",
      "\n",
      "    :Number of Instances: 20640\n",
      "\n",
      "    :Number of Attributes: 8 numeric, predictive attributes and the target\n",
      "\n",
      "    :Attribute Information:\n",
      "        - MedInc        median income in block\n",
      "        - HouseAge      median house age in block\n",
      "        - AveRooms      average number of rooms\n",
      "        - AveBedrms     average number of bedrooms\n",
      "        - Population    block population\n",
      "        - AveOccup      average house occupancy\n",
      "        - Latitude      house block latitude\n",
      "        - Longitude     house block longitude\n",
      "\n",
      "    :Missing Attribute Values: None\n",
      "\n",
      "This dataset was obtained from the StatLib repository.\n",
      "http://lib.stat.cmu.edu/datasets/\n",
      "\n",
      "The target variable is the median house value for California districts.\n",
      "\n",
      "This dataset was derived from the 1990 U.S. census, using one row per census\n",
      "block group. A block group is the smallest geographical unit for which the U.S.\n",
      "Census Bureau publishes sample data (a block group typically has a population\n",
      "of 600 to 3,000 people).\n",
      "\n",
      "It can be downloaded/loaded using the\n",
      ":func:`sklearn.datasets.fetch_california_housing` function.\n",
      "\n",
      ".. topic:: References\n",
      "\n",
      "    - Pace, R. Kelley and Ronald Barry, Sparse Spatial Autoregressions,\n",
      "      Statistics and Probability Letters, 33 (1997) 291-297\n",
      "\n"
     ]
    }
   ],
   "source": [
    "california = fetch_california_housing()\n",
    "print(california.DESCR)"
   ]
  },
  {
   "cell_type": "code",
   "execution_count": 3,
   "metadata": {},
   "outputs": [],
   "source": [
    "X = pd.DataFrame(california.data, columns=california.feature_names)\n",
    "y = pd.DataFrame(california.target, columns=['House Value'])"
   ]
  },
  {
   "cell_type": "markdown",
   "metadata": {},
   "source": [
    "## 3. 데이터 전처리"
   ]
  },
  {
   "cell_type": "code",
   "execution_count": 4,
   "metadata": {
    "scrolled": true
   },
   "outputs": [
    {
     "data": {
      "text/html": [
       "<div>\n",
       "<style scoped>\n",
       "    .dataframe tbody tr th:only-of-type {\n",
       "        vertical-align: middle;\n",
       "    }\n",
       "\n",
       "    .dataframe tbody tr th {\n",
       "        vertical-align: top;\n",
       "    }\n",
       "\n",
       "    .dataframe thead th {\n",
       "        text-align: right;\n",
       "    }\n",
       "</style>\n",
       "<table border=\"1\" class=\"dataframe\">\n",
       "  <thead>\n",
       "    <tr style=\"text-align: right;\">\n",
       "      <th></th>\n",
       "      <th>MedInc</th>\n",
       "      <th>HouseAge</th>\n",
       "      <th>AveRooms</th>\n",
       "      <th>AveBedrms</th>\n",
       "      <th>Population</th>\n",
       "      <th>AveOccup</th>\n",
       "      <th>Latitude</th>\n",
       "      <th>Longitude</th>\n",
       "    </tr>\n",
       "  </thead>\n",
       "  <tbody>\n",
       "    <tr>\n",
       "      <th>0</th>\n",
       "      <td>8.3252</td>\n",
       "      <td>41.0</td>\n",
       "      <td>6.984127</td>\n",
       "      <td>1.023810</td>\n",
       "      <td>322.0</td>\n",
       "      <td>2.555556</td>\n",
       "      <td>37.88</td>\n",
       "      <td>-122.23</td>\n",
       "    </tr>\n",
       "    <tr>\n",
       "      <th>1</th>\n",
       "      <td>8.3014</td>\n",
       "      <td>21.0</td>\n",
       "      <td>6.238137</td>\n",
       "      <td>0.971880</td>\n",
       "      <td>2401.0</td>\n",
       "      <td>2.109842</td>\n",
       "      <td>37.86</td>\n",
       "      <td>-122.22</td>\n",
       "    </tr>\n",
       "    <tr>\n",
       "      <th>2</th>\n",
       "      <td>7.2574</td>\n",
       "      <td>52.0</td>\n",
       "      <td>8.288136</td>\n",
       "      <td>1.073446</td>\n",
       "      <td>496.0</td>\n",
       "      <td>2.802260</td>\n",
       "      <td>37.85</td>\n",
       "      <td>-122.24</td>\n",
       "    </tr>\n",
       "    <tr>\n",
       "      <th>3</th>\n",
       "      <td>5.6431</td>\n",
       "      <td>52.0</td>\n",
       "      <td>5.817352</td>\n",
       "      <td>1.073059</td>\n",
       "      <td>558.0</td>\n",
       "      <td>2.547945</td>\n",
       "      <td>37.85</td>\n",
       "      <td>-122.25</td>\n",
       "    </tr>\n",
       "    <tr>\n",
       "      <th>4</th>\n",
       "      <td>3.8462</td>\n",
       "      <td>52.0</td>\n",
       "      <td>6.281853</td>\n",
       "      <td>1.081081</td>\n",
       "      <td>565.0</td>\n",
       "      <td>2.181467</td>\n",
       "      <td>37.85</td>\n",
       "      <td>-122.25</td>\n",
       "    </tr>\n",
       "  </tbody>\n",
       "</table>\n",
       "</div>"
      ],
      "text/plain": [
       "   MedInc  HouseAge  AveRooms  AveBedrms  Population  AveOccup  Latitude  \\\n",
       "0  8.3252      41.0  6.984127   1.023810       322.0  2.555556     37.88   \n",
       "1  8.3014      21.0  6.238137   0.971880      2401.0  2.109842     37.86   \n",
       "2  7.2574      52.0  8.288136   1.073446       496.0  2.802260     37.85   \n",
       "3  5.6431      52.0  5.817352   1.073059       558.0  2.547945     37.85   \n",
       "4  3.8462      52.0  6.281853   1.081081       565.0  2.181467     37.85   \n",
       "\n",
       "   Longitude  \n",
       "0    -122.23  \n",
       "1    -122.22  \n",
       "2    -122.24  \n",
       "3    -122.25  \n",
       "4    -122.25  "
      ]
     },
     "execution_count": 4,
     "metadata": {},
     "output_type": "execute_result"
    }
   ],
   "source": [
    "X.head()"
   ]
  },
  {
   "cell_type": "code",
   "execution_count": 5,
   "metadata": {
    "scrolled": true
   },
   "outputs": [
    {
     "data": {
      "text/html": [
       "<div>\n",
       "<style scoped>\n",
       "    .dataframe tbody tr th:only-of-type {\n",
       "        vertical-align: middle;\n",
       "    }\n",
       "\n",
       "    .dataframe tbody tr th {\n",
       "        vertical-align: top;\n",
       "    }\n",
       "\n",
       "    .dataframe thead th {\n",
       "        text-align: right;\n",
       "    }\n",
       "</style>\n",
       "<table border=\"1\" class=\"dataframe\">\n",
       "  <thead>\n",
       "    <tr style=\"text-align: right;\">\n",
       "      <th></th>\n",
       "      <th>House Value</th>\n",
       "    </tr>\n",
       "  </thead>\n",
       "  <tbody>\n",
       "    <tr>\n",
       "      <th>0</th>\n",
       "      <td>4.526</td>\n",
       "    </tr>\n",
       "    <tr>\n",
       "      <th>1</th>\n",
       "      <td>3.585</td>\n",
       "    </tr>\n",
       "    <tr>\n",
       "      <th>2</th>\n",
       "      <td>3.521</td>\n",
       "    </tr>\n",
       "    <tr>\n",
       "      <th>3</th>\n",
       "      <td>3.413</td>\n",
       "    </tr>\n",
       "    <tr>\n",
       "      <th>4</th>\n",
       "      <td>3.422</td>\n",
       "    </tr>\n",
       "  </tbody>\n",
       "</table>\n",
       "</div>"
      ],
      "text/plain": [
       "   House Value\n",
       "0        4.526\n",
       "1        3.585\n",
       "2        3.521\n",
       "3        3.413\n",
       "4        3.422"
      ]
     },
     "execution_count": 5,
     "metadata": {},
     "output_type": "execute_result"
    }
   ],
   "source": [
    "y.head()"
   ]
  },
  {
   "cell_type": "code",
   "execution_count": 6,
   "metadata": {},
   "outputs": [],
   "source": [
    "data = pd.concat([X, y], axis=1)"
   ]
  },
  {
   "cell_type": "code",
   "execution_count": 7,
   "metadata": {
    "scrolled": true
   },
   "outputs": [
    {
     "data": {
      "text/html": [
       "<div>\n",
       "<style scoped>\n",
       "    .dataframe tbody tr th:only-of-type {\n",
       "        vertical-align: middle;\n",
       "    }\n",
       "\n",
       "    .dataframe tbody tr th {\n",
       "        vertical-align: top;\n",
       "    }\n",
       "\n",
       "    .dataframe thead th {\n",
       "        text-align: right;\n",
       "    }\n",
       "</style>\n",
       "<table border=\"1\" class=\"dataframe\">\n",
       "  <thead>\n",
       "    <tr style=\"text-align: right;\">\n",
       "      <th></th>\n",
       "      <th>MedInc</th>\n",
       "      <th>HouseAge</th>\n",
       "      <th>AveRooms</th>\n",
       "      <th>AveBedrms</th>\n",
       "      <th>Population</th>\n",
       "      <th>AveOccup</th>\n",
       "      <th>Latitude</th>\n",
       "      <th>Longitude</th>\n",
       "      <th>House Value</th>\n",
       "    </tr>\n",
       "  </thead>\n",
       "  <tbody>\n",
       "    <tr>\n",
       "      <th>0</th>\n",
       "      <td>8.3252</td>\n",
       "      <td>41.0</td>\n",
       "      <td>6.984127</td>\n",
       "      <td>1.023810</td>\n",
       "      <td>322.0</td>\n",
       "      <td>2.555556</td>\n",
       "      <td>37.88</td>\n",
       "      <td>-122.23</td>\n",
       "      <td>4.526</td>\n",
       "    </tr>\n",
       "    <tr>\n",
       "      <th>1</th>\n",
       "      <td>8.3014</td>\n",
       "      <td>21.0</td>\n",
       "      <td>6.238137</td>\n",
       "      <td>0.971880</td>\n",
       "      <td>2401.0</td>\n",
       "      <td>2.109842</td>\n",
       "      <td>37.86</td>\n",
       "      <td>-122.22</td>\n",
       "      <td>3.585</td>\n",
       "    </tr>\n",
       "    <tr>\n",
       "      <th>2</th>\n",
       "      <td>7.2574</td>\n",
       "      <td>52.0</td>\n",
       "      <td>8.288136</td>\n",
       "      <td>1.073446</td>\n",
       "      <td>496.0</td>\n",
       "      <td>2.802260</td>\n",
       "      <td>37.85</td>\n",
       "      <td>-122.24</td>\n",
       "      <td>3.521</td>\n",
       "    </tr>\n",
       "    <tr>\n",
       "      <th>3</th>\n",
       "      <td>5.6431</td>\n",
       "      <td>52.0</td>\n",
       "      <td>5.817352</td>\n",
       "      <td>1.073059</td>\n",
       "      <td>558.0</td>\n",
       "      <td>2.547945</td>\n",
       "      <td>37.85</td>\n",
       "      <td>-122.25</td>\n",
       "      <td>3.413</td>\n",
       "    </tr>\n",
       "    <tr>\n",
       "      <th>4</th>\n",
       "      <td>3.8462</td>\n",
       "      <td>52.0</td>\n",
       "      <td>6.281853</td>\n",
       "      <td>1.081081</td>\n",
       "      <td>565.0</td>\n",
       "      <td>2.181467</td>\n",
       "      <td>37.85</td>\n",
       "      <td>-122.25</td>\n",
       "      <td>3.422</td>\n",
       "    </tr>\n",
       "  </tbody>\n",
       "</table>\n",
       "</div>"
      ],
      "text/plain": [
       "   MedInc  HouseAge  AveRooms  AveBedrms  Population  AveOccup  Latitude  \\\n",
       "0  8.3252      41.0  6.984127   1.023810       322.0  2.555556     37.88   \n",
       "1  8.3014      21.0  6.238137   0.971880      2401.0  2.109842     37.86   \n",
       "2  7.2574      52.0  8.288136   1.073446       496.0  2.802260     37.85   \n",
       "3  5.6431      52.0  5.817352   1.073059       558.0  2.547945     37.85   \n",
       "4  3.8462      52.0  6.281853   1.081081       565.0  2.181467     37.85   \n",
       "\n",
       "   Longitude  House Value  \n",
       "0    -122.23        4.526  \n",
       "1    -122.22        3.585  \n",
       "2    -122.24        3.521  \n",
       "3    -122.25        3.413  \n",
       "4    -122.25        3.422  "
      ]
     },
     "execution_count": 7,
     "metadata": {},
     "output_type": "execute_result"
    }
   ],
   "source": [
    "data.head()"
   ]
  },
  {
   "cell_type": "markdown",
   "metadata": {},
   "source": [
    "### 모델을 학습(train) 및 테스트(test) 데이터로 분리\n",
    "<br>\n",
    "\n",
    "![alt text](Figures/Train_Test.png\"\")\n",
    "<br>"
   ]
  },
  {
   "cell_type": "code",
   "execution_count": 8,
   "metadata": {},
   "outputs": [],
   "source": [
    "train_data, test_data = train_test_split(data, test_size=0.3, random_state=20190625)"
   ]
  },
  {
   "cell_type": "code",
   "execution_count": 9,
   "metadata": {
    "scrolled": true
   },
   "outputs": [
    {
     "data": {
      "text/html": [
       "<div>\n",
       "<style scoped>\n",
       "    .dataframe tbody tr th:only-of-type {\n",
       "        vertical-align: middle;\n",
       "    }\n",
       "\n",
       "    .dataframe tbody tr th {\n",
       "        vertical-align: top;\n",
       "    }\n",
       "\n",
       "    .dataframe thead th {\n",
       "        text-align: right;\n",
       "    }\n",
       "</style>\n",
       "<table border=\"1\" class=\"dataframe\">\n",
       "  <thead>\n",
       "    <tr style=\"text-align: right;\">\n",
       "      <th></th>\n",
       "      <th>MedInc</th>\n",
       "      <th>HouseAge</th>\n",
       "      <th>AveRooms</th>\n",
       "      <th>AveBedrms</th>\n",
       "      <th>Population</th>\n",
       "      <th>AveOccup</th>\n",
       "      <th>Latitude</th>\n",
       "      <th>Longitude</th>\n",
       "      <th>House Value</th>\n",
       "    </tr>\n",
       "  </thead>\n",
       "  <tbody>\n",
       "    <tr>\n",
       "      <th>9795</th>\n",
       "      <td>6.5234</td>\n",
       "      <td>18.0</td>\n",
       "      <td>7.292627</td>\n",
       "      <td>1.228111</td>\n",
       "      <td>1312.0</td>\n",
       "      <td>3.023041</td>\n",
       "      <td>36.52</td>\n",
       "      <td>-121.84</td>\n",
       "      <td>3.574</td>\n",
       "    </tr>\n",
       "    <tr>\n",
       "      <th>10164</th>\n",
       "      <td>4.4375</td>\n",
       "      <td>24.0</td>\n",
       "      <td>5.791304</td>\n",
       "      <td>1.095652</td>\n",
       "      <td>625.0</td>\n",
       "      <td>2.717391</td>\n",
       "      <td>33.89</td>\n",
       "      <td>-117.96</td>\n",
       "      <td>3.341</td>\n",
       "    </tr>\n",
       "    <tr>\n",
       "      <th>4647</th>\n",
       "      <td>2.1435</td>\n",
       "      <td>52.0</td>\n",
       "      <td>2.809524</td>\n",
       "      <td>1.000000</td>\n",
       "      <td>1920.0</td>\n",
       "      <td>2.539683</td>\n",
       "      <td>34.06</td>\n",
       "      <td>-118.31</td>\n",
       "      <td>3.289</td>\n",
       "    </tr>\n",
       "    <tr>\n",
       "      <th>16452</th>\n",
       "      <td>2.1979</td>\n",
       "      <td>52.0</td>\n",
       "      <td>4.804444</td>\n",
       "      <td>1.142222</td>\n",
       "      <td>437.0</td>\n",
       "      <td>1.942222</td>\n",
       "      <td>38.13</td>\n",
       "      <td>-121.27</td>\n",
       "      <td>1.141</td>\n",
       "    </tr>\n",
       "    <tr>\n",
       "      <th>11613</th>\n",
       "      <td>4.8000</td>\n",
       "      <td>21.0</td>\n",
       "      <td>4.603774</td>\n",
       "      <td>1.056604</td>\n",
       "      <td>1215.0</td>\n",
       "      <td>2.547170</td>\n",
       "      <td>33.80</td>\n",
       "      <td>-118.06</td>\n",
       "      <td>1.969</td>\n",
       "    </tr>\n",
       "  </tbody>\n",
       "</table>\n",
       "</div>"
      ],
      "text/plain": [
       "       MedInc  HouseAge  AveRooms  AveBedrms  Population  AveOccup  Latitude  \\\n",
       "9795   6.5234      18.0  7.292627   1.228111      1312.0  3.023041     36.52   \n",
       "10164  4.4375      24.0  5.791304   1.095652       625.0  2.717391     33.89   \n",
       "4647   2.1435      52.0  2.809524   1.000000      1920.0  2.539683     34.06   \n",
       "16452  2.1979      52.0  4.804444   1.142222       437.0  1.942222     38.13   \n",
       "11613  4.8000      21.0  4.603774   1.056604      1215.0  2.547170     33.80   \n",
       "\n",
       "       Longitude  House Value  \n",
       "9795     -121.84        3.574  \n",
       "10164    -117.96        3.341  \n",
       "4647     -118.31        3.289  \n",
       "16452    -121.27        1.141  \n",
       "11613    -118.06        1.969  "
      ]
     },
     "execution_count": 9,
     "metadata": {},
     "output_type": "execute_result"
    }
   ],
   "source": [
    "train_data.head()"
   ]
  },
  {
   "cell_type": "code",
   "execution_count": 10,
   "metadata": {},
   "outputs": [
    {
     "data": {
      "text/plain": [
       "(14448, 9)"
      ]
     },
     "execution_count": 10,
     "metadata": {},
     "output_type": "execute_result"
    }
   ],
   "source": [
    "train_data.shape"
   ]
  },
  {
   "cell_type": "code",
   "execution_count": 11,
   "metadata": {
    "scrolled": true
   },
   "outputs": [
    {
     "data": {
      "text/html": [
       "<div>\n",
       "<style scoped>\n",
       "    .dataframe tbody tr th:only-of-type {\n",
       "        vertical-align: middle;\n",
       "    }\n",
       "\n",
       "    .dataframe tbody tr th {\n",
       "        vertical-align: top;\n",
       "    }\n",
       "\n",
       "    .dataframe thead th {\n",
       "        text-align: right;\n",
       "    }\n",
       "</style>\n",
       "<table border=\"1\" class=\"dataframe\">\n",
       "  <thead>\n",
       "    <tr style=\"text-align: right;\">\n",
       "      <th></th>\n",
       "      <th>MedInc</th>\n",
       "      <th>HouseAge</th>\n",
       "      <th>AveRooms</th>\n",
       "      <th>AveBedrms</th>\n",
       "      <th>Population</th>\n",
       "      <th>AveOccup</th>\n",
       "      <th>Latitude</th>\n",
       "      <th>Longitude</th>\n",
       "      <th>House Value</th>\n",
       "    </tr>\n",
       "  </thead>\n",
       "  <tbody>\n",
       "    <tr>\n",
       "      <th>4051</th>\n",
       "      <td>3.2241</td>\n",
       "      <td>28.0</td>\n",
       "      <td>4.188377</td>\n",
       "      <td>1.139613</td>\n",
       "      <td>2549.0</td>\n",
       "      <td>1.702739</td>\n",
       "      <td>34.15</td>\n",
       "      <td>-118.43</td>\n",
       "      <td>2.958</td>\n",
       "    </tr>\n",
       "    <tr>\n",
       "      <th>17595</th>\n",
       "      <td>3.3682</td>\n",
       "      <td>40.0</td>\n",
       "      <td>6.045902</td>\n",
       "      <td>1.114754</td>\n",
       "      <td>719.0</td>\n",
       "      <td>2.357377</td>\n",
       "      <td>37.31</td>\n",
       "      <td>-121.89</td>\n",
       "      <td>2.352</td>\n",
       "    </tr>\n",
       "    <tr>\n",
       "      <th>7100</th>\n",
       "      <td>5.6454</td>\n",
       "      <td>33.0</td>\n",
       "      <td>5.642298</td>\n",
       "      <td>1.000000</td>\n",
       "      <td>1235.0</td>\n",
       "      <td>3.224543</td>\n",
       "      <td>33.90</td>\n",
       "      <td>-117.99</td>\n",
       "      <td>2.028</td>\n",
       "    </tr>\n",
       "    <tr>\n",
       "      <th>7263</th>\n",
       "      <td>2.1912</td>\n",
       "      <td>37.0</td>\n",
       "      <td>2.423077</td>\n",
       "      <td>1.128205</td>\n",
       "      <td>714.0</td>\n",
       "      <td>4.576923</td>\n",
       "      <td>33.99</td>\n",
       "      <td>-118.23</td>\n",
       "      <td>1.125</td>\n",
       "    </tr>\n",
       "    <tr>\n",
       "      <th>12717</th>\n",
       "      <td>5.8336</td>\n",
       "      <td>36.0</td>\n",
       "      <td>7.460000</td>\n",
       "      <td>0.960000</td>\n",
       "      <td>414.0</td>\n",
       "      <td>2.760000</td>\n",
       "      <td>38.60</td>\n",
       "      <td>-121.37</td>\n",
       "      <td>2.833</td>\n",
       "    </tr>\n",
       "  </tbody>\n",
       "</table>\n",
       "</div>"
      ],
      "text/plain": [
       "       MedInc  HouseAge  AveRooms  AveBedrms  Population  AveOccup  Latitude  \\\n",
       "4051   3.2241      28.0  4.188377   1.139613      2549.0  1.702739     34.15   \n",
       "17595  3.3682      40.0  6.045902   1.114754       719.0  2.357377     37.31   \n",
       "7100   5.6454      33.0  5.642298   1.000000      1235.0  3.224543     33.90   \n",
       "7263   2.1912      37.0  2.423077   1.128205       714.0  4.576923     33.99   \n",
       "12717  5.8336      36.0  7.460000   0.960000       414.0  2.760000     38.60   \n",
       "\n",
       "       Longitude  House Value  \n",
       "4051     -118.43        2.958  \n",
       "17595    -121.89        2.352  \n",
       "7100     -117.99        2.028  \n",
       "7263     -118.23        1.125  \n",
       "12717    -121.37        2.833  "
      ]
     },
     "execution_count": 11,
     "metadata": {},
     "output_type": "execute_result"
    }
   ],
   "source": [
    "test_data.head()"
   ]
  },
  {
   "cell_type": "code",
   "execution_count": 12,
   "metadata": {},
   "outputs": [
    {
     "data": {
      "text/plain": [
       "(6192, 9)"
      ]
     },
     "execution_count": 12,
     "metadata": {},
     "output_type": "execute_result"
    }
   ],
   "source": [
    "test_data.shape"
   ]
  },
  {
   "cell_type": "markdown",
   "metadata": {},
   "source": [
    "## 4. 모델링\n",
    " - OLS: 가장 기본적인 결정론적 선형 회귀 방법으로 잔차제곱합(RSS: Residual Sum of Squares)를 최소화하는 가중치(β1, β2 ...) 구하는 방법\n",
    " - 모델 선언: model = sm.OLS(Y데이터, X데이터)   \n",
    " - 모델 학습: model_trained = model.fit()"
   ]
  },
  {
   "cell_type": "code",
   "execution_count": 13,
   "metadata": {},
   "outputs": [],
   "source": [
    "lm = sm.OLS(train_data['House Value'], train_data.drop(['House Value'], axis=1))"
   ]
  },
  {
   "cell_type": "code",
   "execution_count": 14,
   "metadata": {},
   "outputs": [],
   "source": [
    "lm_trained = lm.fit()"
   ]
  },
  {
   "cell_type": "markdown",
   "metadata": {},
   "source": [
    "## 5. 모델 해석"
   ]
  },
  {
   "cell_type": "code",
   "execution_count": 15,
   "metadata": {
    "scrolled": true
   },
   "outputs": [
    {
     "data": {
      "text/html": [
       "<table class=\"simpletable\">\n",
       "<caption>OLS Regression Results</caption>\n",
       "<tr>\n",
       "  <th>Dep. Variable:</th>       <td>House Value</td>   <th>  R-squared (uncentered):</th>      <td>   0.893</td> \n",
       "</tr>\n",
       "<tr>\n",
       "  <th>Model:</th>                   <td>OLS</td>       <th>  Adj. R-squared (uncentered):</th> <td>   0.893</td> \n",
       "</tr>\n",
       "<tr>\n",
       "  <th>Method:</th>             <td>Least Squares</td>  <th>  F-statistic:       </th>          <td>1.506e+04</td>\n",
       "</tr>\n",
       "<tr>\n",
       "  <th>Date:</th>             <td>Thu, 13 May 2021</td> <th>  Prob (F-statistic):</th>           <td>  0.00</td>  \n",
       "</tr>\n",
       "<tr>\n",
       "  <th>Time:</th>                 <td>15:19:45</td>     <th>  Log-Likelihood:    </th>          <td> -16809.</td> \n",
       "</tr>\n",
       "<tr>\n",
       "  <th>No. Observations:</th>      <td> 14448</td>      <th>  AIC:               </th>          <td>3.363e+04</td>\n",
       "</tr>\n",
       "<tr>\n",
       "  <th>Df Residuals:</th>          <td> 14440</td>      <th>  BIC:               </th>          <td>3.369e+04</td>\n",
       "</tr>\n",
       "<tr>\n",
       "  <th>Df Model:</th>              <td>     8</td>      <th>                     </th>              <td> </td>    \n",
       "</tr>\n",
       "<tr>\n",
       "  <th>Covariance Type:</th>      <td>nonrobust</td>    <th>                     </th>              <td> </td>    \n",
       "</tr>\n",
       "</table>\n",
       "<table class=\"simpletable\">\n",
       "<tr>\n",
       "       <td></td>         <th>coef</th>     <th>std err</th>      <th>t</th>      <th>P>|t|</th>  <th>[0.025</th>    <th>0.975]</th>  \n",
       "</tr>\n",
       "<tr>\n",
       "  <th>MedInc</th>     <td>    0.5071</td> <td>    0.005</td> <td>  101.645</td> <td> 0.000</td> <td>    0.497</td> <td>    0.517</td>\n",
       "</tr>\n",
       "<tr>\n",
       "  <th>HouseAge</th>   <td>    0.0164</td> <td>    0.001</td> <td>   29.841</td> <td> 0.000</td> <td>    0.015</td> <td>    0.017</td>\n",
       "</tr>\n",
       "<tr>\n",
       "  <th>AveRooms</th>   <td>   -0.1721</td> <td>    0.007</td> <td>  -23.757</td> <td> 0.000</td> <td>   -0.186</td> <td>   -0.158</td>\n",
       "</tr>\n",
       "<tr>\n",
       "  <th>AveBedrms</th>  <td>    0.8081</td> <td>    0.035</td> <td>   23.416</td> <td> 0.000</td> <td>    0.740</td> <td>    0.876</td>\n",
       "</tr>\n",
       "<tr>\n",
       "  <th>Population</th> <td>  1.48e-05</td> <td> 6.12e-06</td> <td>    2.418</td> <td> 0.016</td> <td>  2.8e-06</td> <td> 2.68e-05</td>\n",
       "</tr>\n",
       "<tr>\n",
       "  <th>AveOccup</th>   <td>   -0.0059</td> <td>    0.001</td> <td>   -5.963</td> <td> 0.000</td> <td>   -0.008</td> <td>   -0.004</td>\n",
       "</tr>\n",
       "<tr>\n",
       "  <th>Latitude</th>   <td>   -0.0633</td> <td>    0.004</td> <td>  -14.867</td> <td> 0.000</td> <td>   -0.072</td> <td>   -0.055</td>\n",
       "</tr>\n",
       "<tr>\n",
       "  <th>Longitude</th>  <td>   -0.0162</td> <td>    0.001</td> <td>  -11.987</td> <td> 0.000</td> <td>   -0.019</td> <td>   -0.014</td>\n",
       "</tr>\n",
       "</table>\n",
       "<table class=\"simpletable\">\n",
       "<tr>\n",
       "  <th>Omnibus:</th>       <td>2967.936</td> <th>  Durbin-Watson:     </th> <td>   2.008</td> \n",
       "</tr>\n",
       "<tr>\n",
       "  <th>Prob(Omnibus):</th>  <td> 0.000</td>  <th>  Jarque-Bera (JB):  </th> <td>10128.918</td>\n",
       "</tr>\n",
       "<tr>\n",
       "  <th>Skew:</th>           <td> 1.024</td>  <th>  Prob(JB):          </th> <td>    0.00</td> \n",
       "</tr>\n",
       "<tr>\n",
       "  <th>Kurtosis:</th>       <td> 6.554</td>  <th>  Cond. No.          </th> <td>9.92e+03</td> \n",
       "</tr>\n",
       "</table><br/><br/>Notes:<br/>[1] R² is computed without centering (uncentered) since the model does not contain a constant.<br/>[2] Standard Errors assume that the covariance matrix of the errors is correctly specified.<br/>[3] The condition number is large, 9.92e+03. This might indicate that there are<br/>strong multicollinearity or other numerical problems."
      ],
      "text/plain": [
       "<class 'statsmodels.iolib.summary.Summary'>\n",
       "\"\"\"\n",
       "                                 OLS Regression Results                                \n",
       "=======================================================================================\n",
       "Dep. Variable:            House Value   R-squared (uncentered):                   0.893\n",
       "Model:                            OLS   Adj. R-squared (uncentered):              0.893\n",
       "Method:                 Least Squares   F-statistic:                          1.506e+04\n",
       "Date:                Thu, 13 May 2021   Prob (F-statistic):                        0.00\n",
       "Time:                        15:19:45   Log-Likelihood:                         -16809.\n",
       "No. Observations:               14448   AIC:                                  3.363e+04\n",
       "Df Residuals:                   14440   BIC:                                  3.369e+04\n",
       "Df Model:                           8                                                  \n",
       "Covariance Type:            nonrobust                                                  \n",
       "==============================================================================\n",
       "                 coef    std err          t      P>|t|      [0.025      0.975]\n",
       "------------------------------------------------------------------------------\n",
       "MedInc         0.5071      0.005    101.645      0.000       0.497       0.517\n",
       "HouseAge       0.0164      0.001     29.841      0.000       0.015       0.017\n",
       "AveRooms      -0.1721      0.007    -23.757      0.000      -0.186      -0.158\n",
       "AveBedrms      0.8081      0.035     23.416      0.000       0.740       0.876\n",
       "Population   1.48e-05   6.12e-06      2.418      0.016     2.8e-06    2.68e-05\n",
       "AveOccup      -0.0059      0.001     -5.963      0.000      -0.008      -0.004\n",
       "Latitude      -0.0633      0.004    -14.867      0.000      -0.072      -0.055\n",
       "Longitude     -0.0162      0.001    -11.987      0.000      -0.019      -0.014\n",
       "==============================================================================\n",
       "Omnibus:                     2967.936   Durbin-Watson:                   2.008\n",
       "Prob(Omnibus):                  0.000   Jarque-Bera (JB):            10128.918\n",
       "Skew:                           1.024   Prob(JB):                         0.00\n",
       "Kurtosis:                       6.554   Cond. No.                     9.92e+03\n",
       "==============================================================================\n",
       "\n",
       "Notes:\n",
       "[1] R² is computed without centering (uncentered) since the model does not contain a constant.\n",
       "[2] Standard Errors assume that the covariance matrix of the errors is correctly specified.\n",
       "[3] The condition number is large, 9.92e+03. This might indicate that there are\n",
       "strong multicollinearity or other numerical problems.\n",
       "\"\"\""
      ]
     },
     "metadata": {},
     "output_type": "display_data"
    }
   ],
   "source": [
    "display(lm_trained.summary())"
   ]
  },
  {
   "cell_type": "markdown",
   "metadata": {},
   "source": [
    "## 6. 예측 값 도출 및 예측 성능 평가"
   ]
  },
  {
   "cell_type": "markdown",
   "metadata": {},
   "source": [
    "### 학습 데이터 (Training Data)에 대한 (1) 예측 및 (2) 성능 평가"
   ]
  },
  {
   "cell_type": "code",
   "execution_count": 16,
   "metadata": {},
   "outputs": [
    {
     "data": {
      "text/html": [
       "<div>\n",
       "<style scoped>\n",
       "    .dataframe tbody tr th:only-of-type {\n",
       "        vertical-align: middle;\n",
       "    }\n",
       "\n",
       "    .dataframe tbody tr th {\n",
       "        vertical-align: top;\n",
       "    }\n",
       "\n",
       "    .dataframe thead th {\n",
       "        text-align: right;\n",
       "    }\n",
       "</style>\n",
       "<table border=\"1\" class=\"dataframe\">\n",
       "  <thead>\n",
       "    <tr style=\"text-align: right;\">\n",
       "      <th></th>\n",
       "      <th>MedInc</th>\n",
       "      <th>HouseAge</th>\n",
       "      <th>AveRooms</th>\n",
       "      <th>AveBedrms</th>\n",
       "      <th>Population</th>\n",
       "      <th>AveOccup</th>\n",
       "      <th>Latitude</th>\n",
       "      <th>Longitude</th>\n",
       "      <th>House Value</th>\n",
       "    </tr>\n",
       "  </thead>\n",
       "  <tbody>\n",
       "    <tr>\n",
       "      <th>9795</th>\n",
       "      <td>6.5234</td>\n",
       "      <td>18.0</td>\n",
       "      <td>7.292627</td>\n",
       "      <td>1.228111</td>\n",
       "      <td>1312.0</td>\n",
       "      <td>3.023041</td>\n",
       "      <td>36.52</td>\n",
       "      <td>-121.84</td>\n",
       "      <td>3.574</td>\n",
       "    </tr>\n",
       "    <tr>\n",
       "      <th>10164</th>\n",
       "      <td>4.4375</td>\n",
       "      <td>24.0</td>\n",
       "      <td>5.791304</td>\n",
       "      <td>1.095652</td>\n",
       "      <td>625.0</td>\n",
       "      <td>2.717391</td>\n",
       "      <td>33.89</td>\n",
       "      <td>-117.96</td>\n",
       "      <td>3.341</td>\n",
       "    </tr>\n",
       "    <tr>\n",
       "      <th>4647</th>\n",
       "      <td>2.1435</td>\n",
       "      <td>52.0</td>\n",
       "      <td>2.809524</td>\n",
       "      <td>1.000000</td>\n",
       "      <td>1920.0</td>\n",
       "      <td>2.539683</td>\n",
       "      <td>34.06</td>\n",
       "      <td>-118.31</td>\n",
       "      <td>3.289</td>\n",
       "    </tr>\n",
       "    <tr>\n",
       "      <th>16452</th>\n",
       "      <td>2.1979</td>\n",
       "      <td>52.0</td>\n",
       "      <td>4.804444</td>\n",
       "      <td>1.142222</td>\n",
       "      <td>437.0</td>\n",
       "      <td>1.942222</td>\n",
       "      <td>38.13</td>\n",
       "      <td>-121.27</td>\n",
       "      <td>1.141</td>\n",
       "    </tr>\n",
       "    <tr>\n",
       "      <th>11613</th>\n",
       "      <td>4.8000</td>\n",
       "      <td>21.0</td>\n",
       "      <td>4.603774</td>\n",
       "      <td>1.056604</td>\n",
       "      <td>1215.0</td>\n",
       "      <td>2.547170</td>\n",
       "      <td>33.80</td>\n",
       "      <td>-118.06</td>\n",
       "      <td>1.969</td>\n",
       "    </tr>\n",
       "    <tr>\n",
       "      <th>...</th>\n",
       "      <td>...</td>\n",
       "      <td>...</td>\n",
       "      <td>...</td>\n",
       "      <td>...</td>\n",
       "      <td>...</td>\n",
       "      <td>...</td>\n",
       "      <td>...</td>\n",
       "      <td>...</td>\n",
       "      <td>...</td>\n",
       "    </tr>\n",
       "    <tr>\n",
       "      <th>879</th>\n",
       "      <td>3.8179</td>\n",
       "      <td>24.0</td>\n",
       "      <td>5.115768</td>\n",
       "      <td>0.968064</td>\n",
       "      <td>1174.0</td>\n",
       "      <td>2.343313</td>\n",
       "      <td>37.56</td>\n",
       "      <td>-122.01</td>\n",
       "      <td>2.161</td>\n",
       "    </tr>\n",
       "    <tr>\n",
       "      <th>13751</th>\n",
       "      <td>5.0227</td>\n",
       "      <td>9.0</td>\n",
       "      <td>6.269565</td>\n",
       "      <td>0.952174</td>\n",
       "      <td>633.0</td>\n",
       "      <td>2.752174</td>\n",
       "      <td>34.05</td>\n",
       "      <td>-117.15</td>\n",
       "      <td>1.623</td>\n",
       "    </tr>\n",
       "    <tr>\n",
       "      <th>8520</th>\n",
       "      <td>2.6091</td>\n",
       "      <td>21.0</td>\n",
       "      <td>3.783954</td>\n",
       "      <td>1.136963</td>\n",
       "      <td>5546.0</td>\n",
       "      <td>3.178223</td>\n",
       "      <td>33.90</td>\n",
       "      <td>-118.33</td>\n",
       "      <td>1.639</td>\n",
       "    </tr>\n",
       "    <tr>\n",
       "      <th>1727</th>\n",
       "      <td>0.7403</td>\n",
       "      <td>37.0</td>\n",
       "      <td>4.491429</td>\n",
       "      <td>1.148571</td>\n",
       "      <td>1046.0</td>\n",
       "      <td>2.988571</td>\n",
       "      <td>37.96</td>\n",
       "      <td>-122.37</td>\n",
       "      <td>0.686</td>\n",
       "    </tr>\n",
       "    <tr>\n",
       "      <th>14245</th>\n",
       "      <td>1.5057</td>\n",
       "      <td>42.0</td>\n",
       "      <td>4.314655</td>\n",
       "      <td>1.051724</td>\n",
       "      <td>1505.0</td>\n",
       "      <td>3.243534</td>\n",
       "      <td>32.70</td>\n",
       "      <td>-117.10</td>\n",
       "      <td>0.863</td>\n",
       "    </tr>\n",
       "  </tbody>\n",
       "</table>\n",
       "<p>14448 rows × 9 columns</p>\n",
       "</div>"
      ],
      "text/plain": [
       "       MedInc  HouseAge  AveRooms  AveBedrms  Population  AveOccup  Latitude  \\\n",
       "9795   6.5234      18.0  7.292627   1.228111      1312.0  3.023041     36.52   \n",
       "10164  4.4375      24.0  5.791304   1.095652       625.0  2.717391     33.89   \n",
       "4647   2.1435      52.0  2.809524   1.000000      1920.0  2.539683     34.06   \n",
       "16452  2.1979      52.0  4.804444   1.142222       437.0  1.942222     38.13   \n",
       "11613  4.8000      21.0  4.603774   1.056604      1215.0  2.547170     33.80   \n",
       "...       ...       ...       ...        ...         ...       ...       ...   \n",
       "879    3.8179      24.0  5.115768   0.968064      1174.0  2.343313     37.56   \n",
       "13751  5.0227       9.0  6.269565   0.952174       633.0  2.752174     34.05   \n",
       "8520   2.6091      21.0  3.783954   1.136963      5546.0  3.178223     33.90   \n",
       "1727   0.7403      37.0  4.491429   1.148571      1046.0  2.988571     37.96   \n",
       "14245  1.5057      42.0  4.314655   1.051724      1505.0  3.243534     32.70   \n",
       "\n",
       "       Longitude  House Value  \n",
       "9795     -121.84        3.574  \n",
       "10164    -117.96        3.341  \n",
       "4647     -118.31        3.289  \n",
       "16452    -121.27        1.141  \n",
       "11613    -118.06        1.969  \n",
       "...          ...          ...  \n",
       "879      -122.01        2.161  \n",
       "13751    -117.15        1.623  \n",
       "8520     -118.33        1.639  \n",
       "1727     -122.37        0.686  \n",
       "14245    -117.10        0.863  \n",
       "\n",
       "[14448 rows x 9 columns]"
      ]
     },
     "execution_count": 16,
     "metadata": {},
     "output_type": "execute_result"
    }
   ],
   "source": [
    "train_data"
   ]
  },
  {
   "cell_type": "code",
   "execution_count": 17,
   "metadata": {},
   "outputs": [],
   "source": [
    "train_pred = lm_trained.predict(train_data.drop(['House Value'], axis=1))"
   ]
  },
  {
   "cell_type": "code",
   "execution_count": 18,
   "metadata": {},
   "outputs": [
    {
     "data": {
      "text/plain": [
       "9795     3.000859\n",
       "10164    2.288211\n",
       "4647     2.034998\n",
       "16452    1.605928\n",
       "11613    2.612775\n",
       "           ...   \n",
       "879      1.830746\n",
       "13751    2.117512\n",
       "8520     1.766321\n",
       "1727     0.711405\n",
       "14245    1.386619\n",
       "Length: 14448, dtype: float64"
      ]
     },
     "execution_count": 18,
     "metadata": {},
     "output_type": "execute_result"
    }
   ],
   "source": [
    "train_pred"
   ]
  },
  {
   "cell_type": "code",
   "execution_count": 19,
   "metadata": {
    "scrolled": false
   },
   "outputs": [
    {
     "name": "stderr",
     "output_type": "stream",
     "text": [
      "C:\\ProgramData\\Anaconda3\\lib\\site-packages\\matplotlib\\backends\\backend_agg.py:238: RuntimeWarning: Glyph 8722 missing from current font.\n",
      "  font.set_text(s, 0.0, flags=flags)\n",
      "C:\\ProgramData\\Anaconda3\\lib\\site-packages\\matplotlib\\backends\\backend_agg.py:201: RuntimeWarning: Glyph 8722 missing from current font.\n",
      "  font.set_text(s, 0, flags=flags)\n"
     ]
    },
    {
     "data": {
      "image/png": "[encoded data removed]",
      "text/plain": [
       "<Figure size 432x432 with 1 Axes>"
      ]
     },
     "metadata": {
      "needs_background": "light"
     },
     "output_type": "display_data"
    }
   ],
   "source": [
    "plt.figure(figsize=(6, 6))\n",
    "plt.title('실제값 vs. 예측값')\n",
    "plt.scatter(train_data['House Value'], train_pred)\n",
    "plt.xlabel('실제값', size=16)\n",
    "plt.ylabel('예측값', size=16)\n",
    "plt.xlim(-2, 8)\n",
    "plt.ylim(-2, 8)\n",
    "plt.show()"
   ]
  },
  {
   "cell_type": "code",
   "execution_count": 20,
   "metadata": {},
   "outputs": [],
   "source": [
    "from sklearn.metrics import mean_squared_error\n",
    "from sklearn.metrics import mean_absolute_error\n",
    "\n",
    "def mean_absolute_percentage_error(y_true, y_pred):\n",
    "    y_true, y_pred = np.array(y_true), np.array(y_pred)\n",
    "    return np.mean(np.abs((y_true-y_pred)/y_true))*100"
   ]
  },
  {
   "cell_type": "code",
   "execution_count": 21,
   "metadata": {
    "scrolled": true
   },
   "outputs": [
    {
     "name": "stdout",
     "output_type": "stream",
     "text": [
      "Training MSE: 0.600\n",
      "Training RMSE: 0.775\n",
      "Training MAE: 0.572\n",
      "Training MAPE: 34.807\n"
     ]
    }
   ],
   "source": [
    "print('Training MSE: {:.3f}'.format(mean_squared_error(train_data['House Value'], train_pred)))\n",
    "print('Training RMSE: {:.3f}'.format(np.sqrt(mean_squared_error(train_data['House Value'], train_pred))))\n",
    "print('Training MAE: {:.3f}'.format(mean_absolute_error(train_data['House Value'], train_pred)))\n",
    "print('Training MAPE: {:.3f}'.format(mean_absolute_percentage_error(train_data['House Value'], train_pred)))"
   ]
  },
  {
   "cell_type": "markdown",
   "metadata": {},
   "source": [
    "### 테스트 데이터 (Testing Data)에 대한 예측 성능 평가"
   ]
  },
  {
   "cell_type": "code",
   "execution_count": 22,
   "metadata": {
    "scrolled": true
   },
   "outputs": [
    {
     "data": {
      "text/html": [
       "<div>\n",
       "<style scoped>\n",
       "    .dataframe tbody tr th:only-of-type {\n",
       "        vertical-align: middle;\n",
       "    }\n",
       "\n",
       "    .dataframe tbody tr th {\n",
       "        vertical-align: top;\n",
       "    }\n",
       "\n",
       "    .dataframe thead th {\n",
       "        text-align: right;\n",
       "    }\n",
       "</style>\n",
       "<table border=\"1\" class=\"dataframe\">\n",
       "  <thead>\n",
       "    <tr style=\"text-align: right;\">\n",
       "      <th></th>\n",
       "      <th>MedInc</th>\n",
       "      <th>HouseAge</th>\n",
       "      <th>AveRooms</th>\n",
       "      <th>AveBedrms</th>\n",
       "      <th>Population</th>\n",
       "      <th>AveOccup</th>\n",
       "      <th>Latitude</th>\n",
       "      <th>Longitude</th>\n",
       "      <th>House Value</th>\n",
       "    </tr>\n",
       "  </thead>\n",
       "  <tbody>\n",
       "    <tr>\n",
       "      <th>4051</th>\n",
       "      <td>3.2241</td>\n",
       "      <td>28.0</td>\n",
       "      <td>4.188377</td>\n",
       "      <td>1.139613</td>\n",
       "      <td>2549.0</td>\n",
       "      <td>1.702739</td>\n",
       "      <td>34.15</td>\n",
       "      <td>-118.43</td>\n",
       "      <td>2.958</td>\n",
       "    </tr>\n",
       "    <tr>\n",
       "      <th>17595</th>\n",
       "      <td>3.3682</td>\n",
       "      <td>40.0</td>\n",
       "      <td>6.045902</td>\n",
       "      <td>1.114754</td>\n",
       "      <td>719.0</td>\n",
       "      <td>2.357377</td>\n",
       "      <td>37.31</td>\n",
       "      <td>-121.89</td>\n",
       "      <td>2.352</td>\n",
       "    </tr>\n",
       "    <tr>\n",
       "      <th>7100</th>\n",
       "      <td>5.6454</td>\n",
       "      <td>33.0</td>\n",
       "      <td>5.642298</td>\n",
       "      <td>1.000000</td>\n",
       "      <td>1235.0</td>\n",
       "      <td>3.224543</td>\n",
       "      <td>33.90</td>\n",
       "      <td>-117.99</td>\n",
       "      <td>2.028</td>\n",
       "    </tr>\n",
       "    <tr>\n",
       "      <th>7263</th>\n",
       "      <td>2.1912</td>\n",
       "      <td>37.0</td>\n",
       "      <td>2.423077</td>\n",
       "      <td>1.128205</td>\n",
       "      <td>714.0</td>\n",
       "      <td>4.576923</td>\n",
       "      <td>33.99</td>\n",
       "      <td>-118.23</td>\n",
       "      <td>1.125</td>\n",
       "    </tr>\n",
       "    <tr>\n",
       "      <th>12717</th>\n",
       "      <td>5.8336</td>\n",
       "      <td>36.0</td>\n",
       "      <td>7.460000</td>\n",
       "      <td>0.960000</td>\n",
       "      <td>414.0</td>\n",
       "      <td>2.760000</td>\n",
       "      <td>38.60</td>\n",
       "      <td>-121.37</td>\n",
       "      <td>2.833</td>\n",
       "    </tr>\n",
       "    <tr>\n",
       "      <th>...</th>\n",
       "      <td>...</td>\n",
       "      <td>...</td>\n",
       "      <td>...</td>\n",
       "      <td>...</td>\n",
       "      <td>...</td>\n",
       "      <td>...</td>\n",
       "      <td>...</td>\n",
       "      <td>...</td>\n",
       "      <td>...</td>\n",
       "    </tr>\n",
       "    <tr>\n",
       "      <th>17647</th>\n",
       "      <td>3.5625</td>\n",
       "      <td>32.0</td>\n",
       "      <td>5.016373</td>\n",
       "      <td>1.103275</td>\n",
       "      <td>1989.0</td>\n",
       "      <td>2.505038</td>\n",
       "      <td>37.26</td>\n",
       "      <td>-121.91</td>\n",
       "      <td>2.552</td>\n",
       "    </tr>\n",
       "    <tr>\n",
       "      <th>16862</th>\n",
       "      <td>4.2262</td>\n",
       "      <td>37.0</td>\n",
       "      <td>4.362369</td>\n",
       "      <td>0.958188</td>\n",
       "      <td>878.0</td>\n",
       "      <td>3.059233</td>\n",
       "      <td>37.63</td>\n",
       "      <td>-122.41</td>\n",
       "      <td>2.285</td>\n",
       "    </tr>\n",
       "    <tr>\n",
       "      <th>16615</th>\n",
       "      <td>3.6908</td>\n",
       "      <td>23.0</td>\n",
       "      <td>7.406475</td>\n",
       "      <td>1.273381</td>\n",
       "      <td>636.0</td>\n",
       "      <td>2.287770</td>\n",
       "      <td>35.40</td>\n",
       "      <td>-120.92</td>\n",
       "      <td>2.788</td>\n",
       "    </tr>\n",
       "    <tr>\n",
       "      <th>6435</th>\n",
       "      <td>3.5625</td>\n",
       "      <td>43.0</td>\n",
       "      <td>5.647416</td>\n",
       "      <td>1.048632</td>\n",
       "      <td>1054.0</td>\n",
       "      <td>3.203647</td>\n",
       "      <td>34.11</td>\n",
       "      <td>-118.01</td>\n",
       "      <td>2.116</td>\n",
       "    </tr>\n",
       "    <tr>\n",
       "      <th>17715</th>\n",
       "      <td>5.6140</td>\n",
       "      <td>15.0</td>\n",
       "      <td>5.854737</td>\n",
       "      <td>1.048421</td>\n",
       "      <td>1389.0</td>\n",
       "      <td>2.924211</td>\n",
       "      <td>37.35</td>\n",
       "      <td>-121.80</td>\n",
       "      <td>2.233</td>\n",
       "    </tr>\n",
       "  </tbody>\n",
       "</table>\n",
       "<p>6192 rows × 9 columns</p>\n",
       "</div>"
      ],
      "text/plain": [
       "       MedInc  HouseAge  AveRooms  AveBedrms  Population  AveOccup  Latitude  \\\n",
       "4051   3.2241      28.0  4.188377   1.139613      2549.0  1.702739     34.15   \n",
       "17595  3.3682      40.0  6.045902   1.114754       719.0  2.357377     37.31   \n",
       "7100   5.6454      33.0  5.642298   1.000000      1235.0  3.224543     33.90   \n",
       "7263   2.1912      37.0  2.423077   1.128205       714.0  4.576923     33.99   \n",
       "12717  5.8336      36.0  7.460000   0.960000       414.0  2.760000     38.60   \n",
       "...       ...       ...       ...        ...         ...       ...       ...   \n",
       "17647  3.5625      32.0  5.016373   1.103275      1989.0  2.505038     37.26   \n",
       "16862  4.2262      37.0  4.362369   0.958188       878.0  3.059233     37.63   \n",
       "16615  3.6908      23.0  7.406475   1.273381       636.0  2.287770     35.40   \n",
       "6435   3.5625      43.0  5.647416   1.048632      1054.0  3.203647     34.11   \n",
       "17715  5.6140      15.0  5.854737   1.048421      1389.0  2.924211     37.35   \n",
       "\n",
       "       Longitude  House Value  \n",
       "4051     -118.43        2.958  \n",
       "17595    -121.89        2.352  \n",
       "7100     -117.99        2.028  \n",
       "7263     -118.23        1.125  \n",
       "12717    -121.37        2.833  \n",
       "...          ...          ...  \n",
       "17647    -121.91        2.552  \n",
       "16862    -122.41        2.285  \n",
       "16615    -120.92        2.788  \n",
       "6435     -118.01        2.116  \n",
       "17715    -121.80        2.233  \n",
       "\n",
       "[6192 rows x 9 columns]"
      ]
     },
     "execution_count": 22,
     "metadata": {},
     "output_type": "execute_result"
    }
   ],
   "source": [
    "test_data"
   ]
  },
  {
   "cell_type": "code",
   "execution_count": 23,
   "metadata": {},
   "outputs": [],
   "source": [
    "test_pred = lm_trained.predict(test_data.drop(['House Value'], axis=1))"
   ]
  },
  {
   "cell_type": "code",
   "execution_count": 24,
   "metadata": {
    "scrolled": true
   },
   "outputs": [
    {
     "data": {
      "text/plain": [
       "4051     2.075514\n",
       "17595    1.830442\n",
       "7100     3.002480\n",
       "7263     1.956814\n",
       "12717    2.549611\n",
       "           ...   \n",
       "17647    1.987220\n",
       "16862    2.366030\n",
       "16615    1.713752\n",
       "6435     2.133077\n",
       "17715    2.541404\n",
       "Length: 6192, dtype: float64"
      ]
     },
     "metadata": {},
     "output_type": "display_data"
    }
   ],
   "source": [
    "display(test_pred)"
   ]
  },
  {
   "cell_type": "code",
   "execution_count": 25,
   "metadata": {
    "scrolled": true
   },
   "outputs": [
    {
     "name": "stderr",
     "output_type": "stream",
     "text": [
      "C:\\ProgramData\\Anaconda3\\lib\\site-packages\\matplotlib\\backends\\backend_agg.py:238: RuntimeWarning: Glyph 8722 missing from current font.\n",
      "  font.set_text(s, 0.0, flags=flags)\n",
      "C:\\ProgramData\\Anaconda3\\lib\\site-packages\\matplotlib\\backends\\backend_agg.py:201: RuntimeWarning: Glyph 8722 missing from current font.\n",
      "  font.set_text(s, 0, flags=flags)\n"
     ]
    },
    {
     "data": {
      "image/png": "[encoded data removed]",
      "text/plain": [
       "<Figure size 432x432 with 1 Axes>"
      ]
     },
     "metadata": {
      "needs_background": "light"
     },
     "output_type": "display_data"
    },
    {
     "name": "stdout",
     "output_type": "stream",
     "text": [
      "Testing MSE: 0.616\n",
      "Testing RMSE: 0.785\n",
      "Testing MAE: 0.576\n",
      "Testing MAPE: 34.388\n"
     ]
    }
   ],
   "source": [
    "plt.figure(figsize=(6, 6))\n",
    "plt.title('실제값 vs. 예측값')\n",
    "plt.scatter(test_data['House Value'], test_pred)\n",
    "plt.xlabel('실제값', size=16)\n",
    "plt.ylabel('예측값', size=16)\n",
    "plt.xlim(-2, 8)\n",
    "plt.ylim(-2, 8)\n",
    "plt.show()\n",
    "\n",
    "print('Testing MSE: {:.3f}'.format(mean_squared_error(test_data['House Value'], test_pred)))\n",
    "print('Testing RMSE: {:.3f}'.format(np.sqrt(mean_squared_error(test_data['House Value'], test_pred))))\n",
    "print('Testing MAE: {:.3f}'.format(mean_absolute_error(test_data['House Value'], test_pred)))\n",
    "print('Testing MAPE: {:.3f}'.format(mean_absolute_percentage_error(test_data['House Value'], test_pred)))"
   ]
  }
 ],
 "metadata": {
  "kernelspec": {
   "display_name": "Python 3",
   "language": "python",
   "name": "python3"
  },
  "language_info": {
   "codemirror_mode": {
    "name": "ipython",
    "version": 3
   },
   "file_extension": ".py",
   "mimetype": "text/x-python",
   "name": "python",
   "nbconvert_exporter": "python",
   "pygments_lexer": "ipython3",
   "version": "3.8.8"
  }
 },
 "nbformat": 4,
 "nbformat_minor": 2
}
