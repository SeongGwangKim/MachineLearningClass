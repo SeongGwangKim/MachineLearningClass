{
 "cells": [
  {
   "cell_type": "code",
   "execution_count": 2,
   "metadata": {},
   "outputs": [],
   "source": [
    "import os\n",
    "import pandas as pd\n",
    "import numpy as np\n",
    "\n",
    "from scipy import stats\n",
    "from sklearn.mixture import GaussianMixture\n",
    "from sklearn.neighbors import LocalOutlierFactor\n",
    "\n",
    "import matplotlib.pyplot as plt\n",
    "import seaborn as sns\n"
   ]
  },
  {
   "cell_type": "code",
   "execution_count": 3,
   "metadata": {},
   "outputs": [],
   "source": [
    "from sklearn.metrics import confusion_matrix,classification_report"
   ]
  },
  {
   "cell_type": "code",
   "execution_count": 4,
   "metadata": {},
   "outputs": [],
   "source": [
    "data = pd.read_csv('1_Iris_virginica.csv')"
   ]
  },
  {
   "cell_type": "code",
   "execution_count": 5,
   "metadata": {},
   "outputs": [
    {
     "data": {
      "text/html": [
       "<div>\n",
       "<style scoped>\n",
       "    .dataframe tbody tr th:only-of-type {\n",
       "        vertical-align: middle;\n",
       "    }\n",
       "\n",
       "    .dataframe tbody tr th {\n",
       "        vertical-align: top;\n",
       "    }\n",
       "\n",
       "    .dataframe thead th {\n",
       "        text-align: right;\n",
       "    }\n",
       "</style>\n",
       "<table border=\"1\" class=\"dataframe\">\n",
       "  <thead>\n",
       "    <tr style=\"text-align: right;\">\n",
       "      <th></th>\n",
       "      <th>sepallength</th>\n",
       "      <th>sepalwidth</th>\n",
       "      <th>petallength</th>\n",
       "      <th>petalwidth</th>\n",
       "      <th>label</th>\n",
       "    </tr>\n",
       "  </thead>\n",
       "  <tbody>\n",
       "    <tr>\n",
       "      <th>0</th>\n",
       "      <td>5.1</td>\n",
       "      <td>3.5</td>\n",
       "      <td>1.4</td>\n",
       "      <td>0.2</td>\n",
       "      <td>outlier</td>\n",
       "    </tr>\n",
       "    <tr>\n",
       "      <th>1</th>\n",
       "      <td>4.9</td>\n",
       "      <td>3.0</td>\n",
       "      <td>1.4</td>\n",
       "      <td>0.2</td>\n",
       "      <td>outlier</td>\n",
       "    </tr>\n",
       "    <tr>\n",
       "      <th>2</th>\n",
       "      <td>4.7</td>\n",
       "      <td>3.2</td>\n",
       "      <td>1.3</td>\n",
       "      <td>0.2</td>\n",
       "      <td>outlier</td>\n",
       "    </tr>\n",
       "    <tr>\n",
       "      <th>3</th>\n",
       "      <td>4.6</td>\n",
       "      <td>3.1</td>\n",
       "      <td>1.5</td>\n",
       "      <td>0.2</td>\n",
       "      <td>outlier</td>\n",
       "    </tr>\n",
       "    <tr>\n",
       "      <th>4</th>\n",
       "      <td>5.0</td>\n",
       "      <td>3.6</td>\n",
       "      <td>1.4</td>\n",
       "      <td>0.2</td>\n",
       "      <td>outlier</td>\n",
       "    </tr>\n",
       "    <tr>\n",
       "      <th>5</th>\n",
       "      <td>5.4</td>\n",
       "      <td>3.9</td>\n",
       "      <td>1.7</td>\n",
       "      <td>0.4</td>\n",
       "      <td>outlier</td>\n",
       "    </tr>\n",
       "    <tr>\n",
       "      <th>6</th>\n",
       "      <td>4.6</td>\n",
       "      <td>3.4</td>\n",
       "      <td>1.4</td>\n",
       "      <td>0.3</td>\n",
       "      <td>outlier</td>\n",
       "    </tr>\n",
       "    <tr>\n",
       "      <th>7</th>\n",
       "      <td>5.0</td>\n",
       "      <td>3.4</td>\n",
       "      <td>1.5</td>\n",
       "      <td>0.2</td>\n",
       "      <td>outlier</td>\n",
       "    </tr>\n",
       "    <tr>\n",
       "      <th>8</th>\n",
       "      <td>4.4</td>\n",
       "      <td>2.9</td>\n",
       "      <td>1.4</td>\n",
       "      <td>0.2</td>\n",
       "      <td>outlier</td>\n",
       "    </tr>\n",
       "    <tr>\n",
       "      <th>9</th>\n",
       "      <td>4.9</td>\n",
       "      <td>3.1</td>\n",
       "      <td>1.5</td>\n",
       "      <td>0.1</td>\n",
       "      <td>outlier</td>\n",
       "    </tr>\n",
       "  </tbody>\n",
       "</table>\n",
       "</div>"
      ],
      "text/plain": [
       "   sepallength  sepalwidth   petallength  petalwidth     label\n",
       "0          5.1          3.5          1.4          0.2  outlier\n",
       "1          4.9          3.0          1.4          0.2  outlier\n",
       "2          4.7          3.2          1.3          0.2  outlier\n",
       "3          4.6          3.1          1.5          0.2  outlier\n",
       "4          5.0          3.6          1.4          0.2  outlier\n",
       "5          5.4          3.9          1.7          0.4  outlier\n",
       "6          4.6          3.4          1.4          0.3  outlier\n",
       "7          5.0          3.4          1.5          0.2  outlier\n",
       "8          4.4          2.9          1.4          0.2  outlier\n",
       "9          4.9          3.1          1.5          0.1  outlier"
      ]
     },
     "execution_count": 5,
     "metadata": {},
     "output_type": "execute_result"
    }
   ],
   "source": [
    "data.head(10)"
   ]
  },
  {
   "cell_type": "code",
   "execution_count": 6,
   "metadata": {},
   "outputs": [],
   "source": [
    "from sklearn.model_selection import train_test_split"
   ]
  },
  {
   "cell_type": "code",
   "execution_count": 7,
   "metadata": {},
   "outputs": [],
   "source": [
    "train_data, test_data = train_test_split(data,test_size=0.2)"
   ]
  },
  {
   "cell_type": "code",
   "execution_count": 8,
   "metadata": {},
   "outputs": [],
   "source": [
    "Train_Input = train_data.drop(['label'],axis=1)\n",
    "Train_output = train_data['label']\n",
    "Train_Input_x1 = Train_Input.iloc[:,0]"
   ]
  },
  {
   "cell_type": "code",
   "execution_count": 9,
   "metadata": {},
   "outputs": [],
   "source": [
    "Train_Input_target = train_data.loc[train_data['label']=='target'].drop(['label'],axis=1)"
   ]
  },
  {
   "cell_type": "code",
   "execution_count": 10,
   "metadata": {},
   "outputs": [],
   "source": [
    "Train_Input_outlier =train_data.loc[train_data['label']=='outlier'].drop(['label'],axis=1)"
   ]
  },
  {
   "cell_type": "code",
   "execution_count": 11,
   "metadata": {},
   "outputs": [],
   "source": [
    "Train_Input_target_x1 = Train_Input.iloc[:,0]"
   ]
  },
  {
   "cell_type": "code",
   "execution_count": 12,
   "metadata": {},
   "outputs": [],
   "source": [
    "Train_Input_outlier_x1 = Train_Input_outlier.iloc[:,0]"
   ]
  },
  {
   "cell_type": "code",
   "execution_count": 13,
   "metadata": {},
   "outputs": [],
   "source": [
    "est_mean = np.mean(Train_Input_target_x1)\n",
    "est_std = np.std(Train_Input_target_x1)"
   ]
  },
  {
   "cell_type": "code",
   "execution_count": 14,
   "metadata": {},
   "outputs": [],
   "source": [
    "train_anomaly_score = stats.norm.pdf(Train_Input_x1,loc=est_mean,scale=est_std) "
   ]
  },
  {
   "cell_type": "code",
   "execution_count": 15,
   "metadata": {},
   "outputs": [],
   "source": [
    "score = stats.norm.pdf(Train_Input_outlier_x1,loc=est_mean,scale=est_std)"
   ]
  },
  {
   "cell_type": "code",
   "execution_count": 16,
   "metadata": {
    "scrolled": false
   },
   "outputs": [
    {
     "data": {
      "text/plain": [
       "array([0.04198162, 0.4596217 , 0.31528266, 0.41693447, 0.44092244,\n",
       "       0.24597286, 0.13179386, 0.41693447, 0.04198162, 0.05431734,\n",
       "       0.46988671, 0.43576574, 0.45577569, 0.4596217 , 0.38861301,\n",
       "       0.46988671, 0.46988671, 0.10277175, 0.21261634, 0.4596217 ,\n",
       "       0.35703501, 0.41693447, 0.4775063 , 0.2202541 , 0.24597286,\n",
       "       0.15214137, 0.47830947, 0.28049277, 0.38861301, 0.04198162,\n",
       "       0.25395385, 0.47830947, 0.41693447, 0.34931919, 0.41067563,\n",
       "       0.31528266, 0.38861301, 0.28862207, 0.28862207, 0.15214137,\n",
       "       0.41067563, 0.04198162, 0.31528266, 0.41693447, 0.41067563,\n",
       "       0.28862207, 0.41693447, 0.35703501, 0.46988671, 0.41693447,\n",
       "       0.28862207, 0.47226177, 0.45577569, 0.10790464, 0.08708212,\n",
       "       0.18115487, 0.28862207, 0.44092244, 0.24597286, 0.15214137,\n",
       "       0.41067563, 0.2202541 , 0.21261634, 0.21261634, 0.47226177,\n",
       "       0.4775063 , 0.47226177, 0.44092244, 0.34931919, 0.28049277,\n",
       "       0.43576574, 0.02401775, 0.41693447, 0.45577569, 0.12594722,\n",
       "       0.28049277, 0.38861301, 0.28049277, 0.4775063 , 0.28862207,\n",
       "       0.43576574, 0.34931919, 0.4775063 , 0.41693447, 0.46988671,\n",
       "       0.28049277, 0.24597286, 0.28049277, 0.31528266, 0.47226177,\n",
       "       0.32333164, 0.4596217 , 0.45577569, 0.13179386, 0.31528266,\n",
       "       0.2202541 , 0.08266142, 0.45577569, 0.25395385, 0.24597286,\n",
       "       0.41067563, 0.38149489, 0.43576574, 0.35703501, 0.10277175,\n",
       "       0.31528266, 0.43576574, 0.45577569, 0.28049277, 0.46988671,\n",
       "       0.46988671, 0.28049277, 0.31528266, 0.18829428, 0.28862207,\n",
       "       0.32333164, 0.38861301, 0.31528266, 0.4775063 , 0.47830947])"
      ]
     },
     "execution_count": 16,
     "metadata": {},
     "output_type": "execute_result"
    }
   ],
   "source": [
    "train_anomaly_score"
   ]
  },
  {
   "cell_type": "code",
   "execution_count": 17,
   "metadata": {},
   "outputs": [],
   "source": [
    "threshold = 0.05"
   ]
  },
  {
   "cell_type": "code",
   "execution_count": 18,
   "metadata": {},
   "outputs": [
    {
     "data": {
      "text/plain": [
       "array([ True, False, False, False, False, False, False, False,  True,\n",
       "       False, False, False, False, False, False, False, False, False,\n",
       "       False, False, False, False, False, False, False, False, False,\n",
       "       False, False,  True, False, False, False, False, False, False,\n",
       "       False, False, False, False, False,  True, False, False, False,\n",
       "       False, False, False, False, False, False, False, False, False,\n",
       "       False, False, False, False, False, False, False, False, False,\n",
       "       False, False, False, False, False, False, False, False,  True,\n",
       "       False, False, False, False, False, False, False, False, False,\n",
       "       False, False, False, False, False, False, False, False, False,\n",
       "       False, False, False, False, False, False, False, False, False,\n",
       "       False, False, False, False, False, False, False, False, False,\n",
       "       False, False, False, False, False, False, False, False, False,\n",
       "       False, False, False])"
      ]
     },
     "execution_count": 18,
     "metadata": {},
     "output_type": "execute_result"
    }
   ],
   "source": [
    "train_anomaly_score < 0.05"
   ]
  },
  {
   "cell_type": "code",
   "execution_count": 19,
   "metadata": {},
   "outputs": [],
   "source": [
    "train_anomaly_score = stats.norm.pdf(Train_Input_x1,loc=est_mean,scale=est_std)"
   ]
  },
  {
   "cell_type": "code",
   "execution_count": 20,
   "metadata": {},
   "outputs": [],
   "source": [
    "from sklearn.covariance import EmpiricalCovariance"
   ]
  },
  {
   "cell_type": "code",
   "execution_count": 21,
   "metadata": {},
   "outputs": [],
   "source": [
    "cov_est_model =EmpiricalCovariance()"
   ]
  },
  {
   "cell_type": "code",
   "execution_count": 22,
   "metadata": {},
   "outputs": [
    {
     "data": {
      "text/plain": [
       "EmpiricalCovariance()"
      ]
     },
     "execution_count": 22,
     "metadata": {},
     "output_type": "execute_result"
    }
   ],
   "source": [
    "cov_est_model.fit(Train_Input_target)"
   ]
  },
  {
   "cell_type": "code",
   "execution_count": 23,
   "metadata": {},
   "outputs": [],
   "source": [
    "est_multi_mean = cov_est_model.location_\n",
    "est_multi_cov = cov_est_model.covariance_"
   ]
  },
  {
   "cell_type": "code",
   "execution_count": 24,
   "metadata": {
    "scrolled": true
   },
   "outputs": [],
   "source": [
    "train_anomaly_score_multi = stats.multivariate_normal.pdf(Train_Input,mean = est_multi_mean,cov =est_multi_cov)"
   ]
  },
  {
   "cell_type": "code",
   "execution_count": 25,
   "metadata": {},
   "outputs": [],
   "source": [
    "est_mean = np.mean(Train_Input)\n",
    "est_std = np.std(Train_Input)"
   ]
  },
  {
   "cell_type": "code",
   "execution_count": 26,
   "metadata": {
    "scrolled": true
   },
   "outputs": [
    {
     "name": "stdout",
     "output_type": "stream",
     "text": [
      "sepallength    0.833185\n",
      "sepalwidth     0.441022\n",
      "petallength    1.765075\n",
      "petalwidth     0.745929\n",
      "dtype: float64\n"
     ]
    }
   ],
   "source": [
    "print(est_std)"
   ]
  },
  {
   "cell_type": "code",
   "execution_count": 27,
   "metadata": {},
   "outputs": [],
   "source": [
    "pred = []\n",
    "\n",
    "for i in range(train_anomaly_score.shape[0]):\n",
    "        \n",
    "    if train_anomaly_score_multi[i] < threshold:\n",
    "         pred.append('outlier')\n",
    "            \n",
    "    else:\n",
    "        pred.append('target')"
   ]
  },
  {
   "cell_type": "code",
   "execution_count": 28,
   "metadata": {
    "scrolled": true
   },
   "outputs": [
    {
     "data": {
      "text/plain": [
       "122    7.7\n",
       "91     6.1\n",
       "44     5.1\n",
       "72     6.3\n",
       "148    6.2\n",
       "      ... \n",
       "58     6.6\n",
       "128    6.4\n",
       "39     5.1\n",
       "82     5.8\n",
       "149    5.9\n",
       "Name: sepallength, Length: 120, dtype: float64"
      ]
     },
     "execution_count": 28,
     "metadata": {},
     "output_type": "execute_result"
    }
   ],
   "source": [
    "Train_Input_x1"
   ]
  },
  {
   "cell_type": "code",
   "execution_count": 29,
   "metadata": {},
   "outputs": [
    {
     "data": {
      "text/plain": [
       "120"
      ]
     },
     "execution_count": 29,
     "metadata": {},
     "output_type": "execute_result"
    }
   ],
   "source": [
    "len(train_anomaly_score)"
   ]
  },
  {
   "cell_type": "code",
   "execution_count": 30,
   "metadata": {
    "scrolled": true
   },
   "outputs": [
    {
     "data": {
      "text/plain": [
       "array([[34,  7],\n",
       "       [ 4, 75]], dtype=int64)"
      ]
     },
     "execution_count": 30,
     "metadata": {},
     "output_type": "execute_result"
    }
   ],
   "source": [
    "confusion_matrix(Train_output,pred,labels = ['target','outlier'])"
   ]
  },
  {
   "cell_type": "code",
   "execution_count": 31,
   "metadata": {},
   "outputs": [
    {
     "data": {
      "text/plain": [
       "{'target': {'precision': 0.8947368421052632,\n",
       "  'recall': 0.8292682926829268,\n",
       "  'f1-score': 0.860759493670886,\n",
       "  'support': 41},\n",
       " 'outlier': {'precision': 0.9146341463414634,\n",
       "  'recall': 0.9493670886075949,\n",
       "  'f1-score': 0.9316770186335404,\n",
       "  'support': 79},\n",
       " 'accuracy': 0.9083333333333333,\n",
       " 'macro avg': {'precision': 0.9046854942233633,\n",
       "  'recall': 0.8893176906452609,\n",
       "  'f1-score': 0.8962182561522132,\n",
       "  'support': 120},\n",
       " 'weighted avg': {'precision': 0.9078359007274285,\n",
       "  'recall': 0.9083333333333333,\n",
       "  'f1-score': 0.9074468642713001,\n",
       "  'support': 120}}"
      ]
     },
     "execution_count": 31,
     "metadata": {},
     "output_type": "execute_result"
    }
   ],
   "source": [
    "classification_report(Train_output,pred,labels = ['target','outlier'], output_dict = True)"
   ]
  },
  {
   "cell_type": "code",
   "execution_count": null,
   "metadata": {},
   "outputs": [],
   "source": []
  },
  {
   "cell_type": "code",
   "execution_count": 32,
   "metadata": {},
   "outputs": [],
   "source": [
    "LOF = LocalOutlierFactor()"
   ]
  },
  {
   "cell_type": "code",
   "execution_count": 34,
   "metadata": {},
   "outputs": [
    {
     "data": {
      "text/plain": [
       "LocalOutlierFactor()"
      ]
     },
     "execution_count": 34,
     "metadata": {},
     "output_type": "execute_result"
    }
   ],
   "source": [
    "LOF.fit(Train_Input)"
   ]
  },
  {
   "cell_type": "code",
   "execution_count": 38,
   "metadata": {},
   "outputs": [
    {
     "data": {
      "text/plain": [
       "(array(['outlier', 'target'], dtype=object), array([79, 41], dtype=int64))"
      ]
     },
     "execution_count": 38,
     "metadata": {},
     "output_type": "execute_result"
    }
   ],
   "source": [
    "np.unique(Train_output,return_counts=True)"
   ]
  },
  {
   "cell_type": "code",
   "execution_count": 43,
   "metadata": {},
   "outputs": [],
   "source": [
    "nof = LOF.negative_outlier_factor_[-1 * LOF.negative_outlier_factor_.argsort()]"
   ]
  },
  {
   "cell_type": "code",
   "execution_count": 39,
   "metadata": {},
   "outputs": [],
   "source": [
    "pred = 120 * ['target']"
   ]
  },
  {
   "cell_type": "code",
   "execution_count": 41,
   "metadata": {},
   "outputs": [],
   "source": [
    "anomal_ind =LOF.negative_outlier_factor_.argsort()[:83]"
   ]
  },
  {
   "cell_type": "code",
   "execution_count": 46,
   "metadata": {},
   "outputs": [],
   "source": [
    "for i in anomal_ind:\n",
    "    pred[i] = 'outlier'"
   ]
  },
  {
   "cell_type": "code",
   "execution_count": 47,
   "metadata": {},
   "outputs": [
    {
     "data": {
      "text/plain": [
       "array([[11]], dtype=int64)"
      ]
     },
     "execution_count": 47,
     "metadata": {},
     "output_type": "execute_result"
    }
   ],
   "source": [
    "confusion_matrix(Train_output,pred,labels=['target'])"
   ]
  },
  {
   "cell_type": "code",
   "execution_count": null,
   "metadata": {},
   "outputs": [],
   "source": []
  },
  {
   "cell_type": "code",
   "execution_count": null,
   "metadata": {},
   "outputs": [],
   "source": []
  },
  {
   "cell_type": "code",
   "execution_count": null,
   "metadata": {},
   "outputs": [],
   "source": []
  }
 ],
 "metadata": {
  "kernelspec": {
   "display_name": "Python 3",
   "language": "python",
   "name": "python3"
  },
  "language_info": {
   "codemirror_mode": {
    "name": "ipython",
    "version": 3
   },
   "file_extension": ".py",
   "mimetype": "text/x-python",
   "name": "python",
   "nbconvert_exporter": "python",
   "pygments_lexer": "ipython3",
   "version": "3.8.5"
  }
 },
 "nbformat": 4,
 "nbformat_minor": 4
}
